{
 "cells": [
  {
   "cell_type": "markdown",
   "id": "7f59879cabc55a5e",
   "metadata": {},
   "source": [
    "## Building a Bring Your Own Browser (BYOB) Tool for Web Browsing and Summarization\n",
    "\n",
    "**Disclaimer: This cookbook is for educational purposes only. Ensure that you comply with all applicable laws and service terms when using web search and scraping technologies. This cookbook will restrict the search to openai.com domain to retrieve the public information to illustrate the concepts.**\n",
    "\n",
    "Large Language Models (LLMs) such as GPT-4o have a knowledge cutoff date, which means they lack information about events that occurred after that point. In scenarios where the most recent data is essential, it's necessary to provide LLMs with access to current web information to ensure accurate and relevant responses.\n",
    "\n",
    "In this guide, we will build a Bring Your Own Browser (BYOB) tool using Python to overcome this limitation. Our goal is to create a system that provides up-to-date answers in your application, including the most recent developments such as the latest product launches by OpenAI. By integrating web search capabilities with an LLM, we'll enable the model to generate responses based on the latest information available online.\n",
    "\n",
    "While you can use any publicly available search APIs, we'll utilize Google's Custom Search API to perform web searches. The retrieved information from the search results will be processed and passed to the LLM to generate the final response through Retrieval-Augmented Generation (RAG).\n",
    "\n",
    "**Bring Your Own Browser (BYOB)** tools allow users to perform web browsing tasks programmatically. In this notebook, we'll create a BYOB tool that:\n",
    "\n",
    "**#1. Set Up a Search Engine:** Use a public search API, such as Google's Custom Search API, to perform web searches and obtain a list of relevant search results.  \n",
    "\n",
    "**#2. Build a Search Dictionary:** Collect the title, URL, and a summary of each web page from the search results to create a structured dictionary of information.  \n",
    "\n",
    "**#3. Generate a RAG Response:** Implement Retrieval-Augmented Generation (RAG) by passing the gathered information to the LLM, which then generates a final response to the user's query.\n",
    "\n",
    "------\n",
    "**For our own usecase**\n",
    "\n",
    "- Add additional steps to select relevant webpages\n",
    "  \n",
    "- Parsed relevant webpages with BeautifulSoup\n",
    "- Generate a yaml file\n",
    "\n",
    "-> The followup *generate function from yaml* process is the same as the data process pipeline on existing db (`openapis`)\n"
   ]
  },
  {
   "cell_type": "code",
   "execution_count": 64,
   "id": "25223c09",
   "metadata": {},
   "outputs": [],
   "source": [
    "\n",
    "# search_systemPrompt = \"\"\"\n",
    "# **System Instruction:**\n",
    "# You are an expert API documentation assistant. Your task is to assist users in extracting API endpoint information from the provided search results, synthesize the relevant details from online sources, and generate a YAML configuration for the given API endpoint.\n",
    "\n",
    "# **User Input Example:**\n",
    "# \"Find details about the Figma API endpoint most likely to get_team_projects\"\n",
    "\n",
    "# ```yaml\n",
    "# openapi: 3.1.0\n",
    "# info:\n",
    "#   title: <Server API name>\n",
    "# name: <API Endpoint Name Always start with the service provider name, like figma_get_team_projects, serpapi_google_search>\n",
    "# servers:\n",
    "#   - url: <API Service Provider Documentation URL>\n",
    "#     description: Optional server description, e.g. Main (production) server\n",
    "# description: <Brief Description of the API Endpoint>\n",
    "# method: <HTTP Method>\n",
    "# endpoint: <Full and Complete API Endpoint URL, like https://api.server.com/v1/projects>\n",
    "# parameters:\n",
    "#   - name: <Parameter Name>\n",
    "#     type: <Data Type>\n",
    "#     required: <true/false>\n",
    "#     description: <Description>\n",
    "# example_request: |\n",
    "#   <Example cURL or HTTP Request>\n",
    "# example_response: |\n",
    "#   <Example API Response>\n",
    "# ```\n",
    "\n",
    "\n",
    "# **Expected Output:**\n",
    "# 1. Perform a search query to find reliable and updated documentation for the specified API endpoint.\n",
    "# 2. Extract the relevant information, including endpoint details, HTTP method, parameters, and usage examples.\n",
    "# 3. Generate a YAML configuration based on the following template:\n",
    "# \"\"\"\n",
    "\n",
    "# userPrompt = \"The user will provide a dictionary of search results in JSON format for search query {search_term} Based on on the search results provided by the user, provide a detailed response to this query: **'{search_query}'**. Make sure to cite all the sources at the end of your answer.\"\n",
    "\n",
    "systemPrompt_byob = \"\"\"\n",
    "**System Instruction:**\n",
    "You are an expert API documentation assistant. Your task is to assist users in finding API endpoint information using provided search terms, synthesize the relevant details from online sources, and generate a YAML configuration for the given API endpoint. The YAML should include standard fields such as name, description, method, endpoint URL, parameters, and any other necessary details.\n",
    "\n",
    "**Expected Output:**\n",
    "1. Understand user endpoint search query, and find reliable and updated documentation for the specified API endpoint based on the google search term and its search result.\n",
    "2. Extract the relevant information, including endpoint details, HTTP method, parameters, and usage examples.\n",
    "3. Generate a YAML configuration based on openapi 3.1.0 looking like this:\n",
    "\n",
    "```yaml\n",
    "openapi: 3.1.0\n",
    "info:\n",
    "  title: <Sample API Title>\n",
    "  description: <Optional multiline or single-line description in [CommonMark](http://commonmark.org/help/) or HTML>\n",
    "  version: <0.1.9>\n",
    "servers:\n",
    "  - url: <API Service Provider Documentation URL, like http://api.example.com/v1>\n",
    "    description: <Optional server description, e.g. Main (production) server>\n",
    "paths:\n",
    "  /users:\n",
    "    get:\n",
    "      operationId: getUsers\n",
    "      summary: Returns a list of users.\n",
    "      description: Optional extended description in CommonMark or HTML.\n",
    "      responses:\n",
    "        '200':\n",
    "          description: A JSON array of user names\n",
    "          content:\n",
    "            application/json:\n",
    "              schema:\n",
    "                type: array\n",
    "                items:\n",
    "                  type: string\n",
    "    post:\n",
    "      operationId: createUser\n",
    "      summary: Creates a user.\n",
    "      requestBody:\n",
    "        required: true\n",
    "        content:\n",
    "          application/json:\n",
    "            schema:\n",
    "              type: object\n",
    "              properties:\n",
    "                username:\n",
    "                  type: string\n",
    "      responses:\n",
    "        '201':\n",
    "          description: Created\n",
    "```\n",
    "\n",
    "**Explanation:**\n",
    "- Replace `<placeholders>` with the extracted API information.\n",
    "- Replace `paths` part based on the valid endpoint you found, do not miss operationId\n",
    "- Ensure the YAML structure is complete and adheres to standard YAML formatting rules.\n",
    "\n",
    "**Additional Guidelines:**\n",
    "- Validate the endpoint and parameter descriptions against the official API documentation.\n",
    "- Always ensure the output is tailored to the user’s use case.\n",
    "\"\"\"\n"
   ]
  },
  {
   "cell_type": "markdown",
   "id": "1e95055b8cec006e",
   "metadata": {},
   "source": [
    "### Use Case \n",
    "In this cookbook, we'll take the example of a user who wants to list recent product launches by OpenAI in chronological order. Because the current GPT-4o model has a knowledge cutoff date, it is not expected that the model will know about recent product launches such as the o1-preview model launched in September 2024. \n"
   ]
  },
  {
   "cell_type": "code",
   "execution_count": 51,
   "id": "d1ecc3b9dc1840d",
   "metadata": {
    "ExecuteTime": {
     "end_time": "2024-09-23T18:07:34.124609Z",
     "start_time": "2024-09-23T18:07:29.838089Z"
    }
   },
   "outputs": [],
   "source": [
    "import os\n",
    "from openai import OpenAI\n",
    "from dotenv import load_dotenv\n",
    "\n",
    "load_dotenv('.env')\n",
    "\n",
    "client = OpenAI(api_key=os.getenv('OPENAI_API_KEY'))\n",
    "\n",
    "tool_name = \"confluence_search_page_content\"\n"
   ]
  },
  {
   "cell_type": "markdown",
   "id": "d4e80aeaa52c8dc",
   "metadata": {},
   "source": [
    "Given the knowledge cutoff, as expected the model does not know about the recent product launches by OpenAI."
   ]
  },
  {
   "cell_type": "markdown",
   "id": "9d34362ceef5a331",
   "metadata": {},
   "source": [
    "### Setting up a BYOB tool\n",
    "To provide the model with recent events information, we'll follow these steps:\n",
    "\n",
    "##### Step 1: Set Up a Search Engine to Provide Web Search Results\n",
    "##### Step 2: Build a Search Dictionary with Titles, URLs, and Summaries of Web Pages\n",
    "##### Step 3: Pass the information to the model to generate a RAG Response to the User Query  \n",
    "\n",
    "\n",
    "Before we begin, ensure you have the following: **Python 3.12 or later** installed on your machine. You will also need a Google Custom Search API key and Custom Search Engine ID (CSE ID). Necessary Python packages installed: `requests`, `beautifulsoup4`, `openai`. And ensure the OPENAI_API_KEY is set up as an environment variable."
   ]
  },
  {
   "cell_type": "markdown",
   "id": "1a766088c001c30b",
   "metadata": {},
   "source": [
    "#### Step 1: Set Up a Search Engine to Provide Web Search Results\n",
    "You can use any publicly available web search APIs to perform this task. We will configure a custom search engine using Google's Custom Search API. This engine will fetch a list of relevant web pages based on the user's query, focusing on obtaining the most recent and pertinent results.  \n",
    "\n",
    "**a. Configure Search API key and Function:** Acquire a Google API key and a Custom Search Engine ID (CSE ID) from the Google Developers Console. You can navigate to this [Programmable Search Engine Link](https://developers.google.com/custom-search/v1/overview) to set up an API key as well as Custom Search Engine ID (CSE ID). \n",
    "\n",
    "The `search` function below sets up the search based on search term, the API and CSE ID keys, as well as number of search results to return. We'll introduce a parameter `site_filter` to restrict the output to only `openai.com`\n",
    "  "
   ]
  },
  {
   "cell_type": "code",
   "execution_count": 52,
   "id": "7df836efe1589633",
   "metadata": {
    "ExecuteTime": {
     "end_time": "2024-09-23T18:08:59.171800Z",
     "start_time": "2024-09-23T18:08:59.164245Z"
    }
   },
   "outputs": [],
   "source": [
    "import requests  # For making HTTP requests to APIs and websites\n",
    "\n",
    "def search(search_item, api_key, cse_id, search_depth=10, site_filter=None):\n",
    "    service_url = 'https://www.googleapis.com/customsearch/v1'\n",
    "\n",
    "    params = {\n",
    "        'q': search_item,\n",
    "        'key': api_key,\n",
    "        'cx': cse_id,\n",
    "        'num': search_depth\n",
    "    }\n",
    "\n",
    "    try:\n",
    "        response = requests.get(service_url, params=params)\n",
    "        response.raise_for_status()\n",
    "        results = response.json()\n",
    "\n",
    "        # Check if 'items' exists in the results\n",
    "        if 'items' in results:\n",
    "            if site_filter is not None:\n",
    "                \n",
    "                # Filter results to include only those with site_filter in the link\n",
    "                filtered_results = [result for result in results['items'] if site_filter in result['link']]\n",
    "\n",
    "                if filtered_results:\n",
    "                    return filtered_results\n",
    "                else:\n",
    "                    print(f\"No results with {site_filter} found.\")\n",
    "                    return []\n",
    "            else:\n",
    "                if 'items' in results:\n",
    "                    return results['items']\n",
    "                else:\n",
    "                    print(\"No search results found.\")\n",
    "                    return []\n",
    "\n",
    "    except requests.exceptions.RequestException as e:\n",
    "        print(f\"An error occurred during the search: {e}\")\n",
    "        return []\n"
   ]
  },
  {
   "cell_type": "markdown",
   "id": "dcee6754a2e6cd24",
   "metadata": {},
   "source": [
    "**b. Identify the search terms for search engine:** Before we can retrieve specific results from a 3rd Party API, we may need to use Query Expansion to identify specific terms our browser search API should retrieve. **Query expansion** is a process where we broaden the original user query by adding related terms, synonyms, or variations. This technique is essential because search engines, like Google's Custom Search API, are often better at matching a range of related terms rather than just the natural language prompt used by a user. \n",
    "\n",
    "For example, searching with only the raw query `\"List the latest OpenAI product launches in chronological order from latest to oldest in the past 2 years\"` may return fewer and less relevant results than a more specific and direct search on a succinct phrase such as `\"Latest OpenAI product launches\"`. In the code below, we will use the user's original `search_query` to produce a more specific search term to use with the Google API to retrieve the results. "
   ]
  },
  {
   "cell_type": "code",
   "execution_count": 53,
   "id": "3752702114df8160",
   "metadata": {
    "ExecuteTime": {
     "end_time": "2024-09-23T18:09:00.816893Z",
     "start_time": "2024-09-23T18:09:00.150843Z"
    }
   },
   "outputs": [
    {
     "name": "stdout",
     "output_type": "stream",
     "text": [
      "Confluence API search page content\n"
     ]
    }
   ],
   "source": [
    "search_term = client.chat.completions.create(\n",
    "    model=\"gpt-4o\",\n",
    "    messages=[\n",
    "        {\"role\": \"system\", \"content\": \"You are an expert API documentation assistant. Provide a google search term to find the target API endpoint documentation based on search query provided below in 4-6 words\"},\n",
    "        {\"role\": \"user\", \"content\": search_query}]\n",
    ").choices[0].message.content\n",
    "\n",
    "print(search_term)"
   ]
  },
  {
   "cell_type": "markdown",
   "id": "62b7194aedbc3a21",
   "metadata": {},
   "source": [
    "**c. Invoke the search function:** Now that we have the search term, we will invoke the search function to retrieve the results from Google search API. The results only have the link of the web page and a snippet at this point. In the next step, we will retrieve more information from the webpage and summarize it in a dictionary to pass to the model."
   ]
  },
  {
   "cell_type": "code",
   "execution_count": 54,
   "id": "891e924b15957206",
   "metadata": {
    "ExecuteTime": {
     "end_time": "2024-09-23T18:09:03.324177Z",
     "start_time": "2024-09-23T18:09:02.671631Z"
    }
   },
   "outputs": [],
   "source": [
    "from dotenv import load_dotenv\n",
    "import os\n",
    "\n",
    "load_dotenv('.env')\n",
    "\n",
    "api_key = os.getenv('GOOGLE_API_KEY')\n",
    "cse_id = os.getenv('CSE_ID')\n",
    "\n",
    "search_items = search(search_item=search_term, api_key=api_key, cse_id=cse_id, search_depth=6)\n"
   ]
  },
  {
   "cell_type": "code",
   "execution_count": 55,
   "id": "ceedee1eb3ffec85",
   "metadata": {
    "ExecuteTime": {
     "end_time": "2024-09-23T18:09:04.544840Z",
     "start_time": "2024-09-23T18:09:04.542750Z"
    }
   },
   "outputs": [
    {
     "name": "stdout",
     "output_type": "stream",
     "text": [
      "Link: https://developer.atlassian.com/cloud/confluence/rest/v1/api-group-search/\n",
      "Snippet: Searches for content using the Confluence Query Language (CQL). Note that CQL input queries submitted through the /wiki/rest/api/search endpoint no longer ...\n",
      "\n",
      "Link: https://community.atlassian.com/t5/Confluence-questions/Rest-API-call-to-search-content-in-a-page-and-it-s-children/qaq-p/999497\n",
      "Snippet: ... search all pages of the parent based on your text string in the search. Here is what an example would look like: http://localhost:8080/confluence/rest/api/ ...\n",
      "\n",
      "Link: https://community.developer.atlassian.com/t/how-to-search-confluence-pages-by-content-state/61595\n",
      "Snippet: Sep 15, 2022 ... The search URL in my case is something like {confluenceBaseURL}/wiki/rest/api/search?cql=content.property%5Bcontent-state-published%5D ...\n",
      "\n",
      "Link: https://community.atlassian.com/t5/Confluence-questions/Searching-for-Page-by-Content/qaq-p/2594304\n",
      "Snippet: Jan 31, 2024 ... ... search API for retrieving the page by using text search. There is a ... search for Confluence content using various fields, operators is the CQL ...\n",
      "\n",
      "Link: https://community.developer.atlassian.com/t/get-a-page-by-its-title/70044\n",
      "Snippet: Jun 5, 2023 ... I would use the search content endpoint (which is not deprecated) and query the page using CQL instead e.g. /wiki/rest/api/content/search ...\n",
      "\n",
      "Link: https://confluence.atlassian.com/confkb/searching-for-content-with-the-rest-api-and-cql-always-limits-results-to-50-1032258424.html\n",
      "Snippet: Nov 25, 2020 ... Searching for content using the REST API and Confluence Query Language (CQL) always returns a maximum of 50 results, despite increasing the limit parameter.\n",
      "\n"
     ]
    }
   ],
   "source": [
    "for item in search_items:\n",
    "    print(f\"Link: {item['link']}\")\n",
    "    print(f\"Snippet: {item['snippet']}\\n\")"
   ]
  },
  {
   "cell_type": "markdown",
   "id": "c2f754f92866307e",
   "metadata": {},
   "source": [
    "#### Step 2: Build a Search Dictionary with Titles, URLs, and Summaries of Web Pages\n",
    "After obtaining the search results, we'll extract and organize the relevant information, so it can be passed to the LLM for final output. \n",
    "\n",
    "**a. Scrape Web Page Content:** For each URL in the search results, retrieve the web page to extract textual content while filtering out non-relevant data like scripts and advertisements as demonstrated in function `retrieve_content`. \n",
    "\n",
    "**b. Summarize Content:** Use an LLM to generate concise summaries of the scraped content, focusing on information pertinent to the user's query. Model can be provided the original search text, so it can focus on summarizing the content for the search intent as outlined in function `summarize_content`. \n",
    "  \n",
    "**c. Create a Structured Dictionary:** Organize the data into a dictionary or a DataFrame containing the title, link, and summary for each web page. This structure can be passed on to the LLM to generate the summary with the appropriate citations.    \n"
   ]
  },
  {
   "cell_type": "code",
   "execution_count": 56,
   "id": "f4981ca230333116",
   "metadata": {
    "ExecuteTime": {
     "end_time": "2024-09-23T18:09:16.847793Z",
     "start_time": "2024-09-23T18:09:16.616732Z"
    }
   },
   "outputs": [],
   "source": [
    "import requests\n",
    "from bs4 import BeautifulSoup\n",
    "\n",
    "TRUNCATE_SCRAPED_TEXT = 30000  # Adjust based on your model's context window\n",
    "SEARCH_DEPTH = 5\n",
    "\n",
    "def retrieve_content(url, max_tokens=TRUNCATE_SCRAPED_TEXT):\n",
    "        try:\n",
    "            headers = {'User-Agent': 'Mozilla/5.0'}\n",
    "            response = requests.get(url, headers=headers, timeout=10)\n",
    "            response.raise_for_status()\n",
    "\n",
    "            soup = BeautifulSoup(response.content, 'html.parser')\n",
    "            for script_or_style in soup(['script', 'style']):\n",
    "                script_or_style.decompose()\n",
    "\n",
    "            text = soup.get_text(separator=' ', strip=True)\n",
    "            characters = max_tokens * 4  # Approximate conversion\n",
    "            text = text[:characters]\n",
    "            return text\n",
    "        except requests.exceptions.RequestException as e:\n",
    "            print(f\"Failed to retrieve {url}: {e}\")\n",
    "            return None\n",
    "        \n",
    "def summarize_content(content, search_term, character_limit=500):\n",
    "        prompt = (\n",
    "            f\"You are an AI assistant tasked with summarizing content relevant to '{search_term}'. \"\n",
    "            f\"Please provide a concise summary in {character_limit} characters or less.\"\n",
    "        )\n",
    "        try:\n",
    "            response = client.chat.completions.create(\n",
    "                model=\"gpt-4o-mini\",\n",
    "                messages=[\n",
    "                    {\"role\": \"system\", \"content\": prompt},\n",
    "                    {\"role\": \"user\", \"content\": content}]\n",
    "            )\n",
    "            summary = response.choices[0].message.content\n",
    "            return summary\n",
    "        except Exception as e:\n",
    "            print(f\"An error occurred during summarization: {e}\")\n",
    "            return None\n",
    "\n",
    "def get_search_results(search_items, character_limit=500):\n",
    "    # Generate a summary of search results for the given search term\n",
    "    results_list = []\n",
    "    for idx, item in enumerate(search_items, start=1):\n",
    "        url = item.get('link')\n",
    "        \n",
    "        snippet = item.get('snippet', '')\n",
    "        web_content = retrieve_content(url, TRUNCATE_SCRAPED_TEXT)\n",
    "        \n",
    "        if web_content is None:\n",
    "            print(f\"Error: skipped URL: {url}\")\n",
    "        else:\n",
    "            summary = summarize_content(web_content, search_term, character_limit)\n",
    "            result_dict = {\n",
    "                'order': idx,\n",
    "                'link': url,\n",
    "                'title': snippet,\n",
    "                'Summary': summary\n",
    "            }\n",
    "            results_list.append(result_dict)\n",
    "    return results_list"
   ]
  },
  {
   "cell_type": "code",
   "execution_count": 57,
   "id": "6b9afc6c933a6a67",
   "metadata": {
    "ExecuteTime": {
     "end_time": "2024-09-23T18:09:36.415639Z",
     "start_time": "2024-09-23T18:09:17.743365Z"
    }
   },
   "outputs": [
    {
     "name": "stdout",
     "output_type": "stream",
     "text": [
      "Search order: 1\n",
      "Link: https://developer.atlassian.com/cloud/confluence/rest/v1/api-group-search/\n",
      "Snippet: Searches for content using the Confluence Query Language (CQL). Note that CQL input queries submitted through the /wiki/rest/api/search endpoint no longer ...\n",
      "Summary: The Confluence Cloud REST API documentation provides a comprehensive reference for developers, covering various aspects such as authentication, status codes, and how to interact with content, spaces, and users. Key features include capabilities for managing attachments, comments, labels, permissions, and properties. It also discusses using CQL for search functionalities, connecting modules, and utilizing GraphQL. Resources and guides are available for effective API utilization, along with a changelog for updates. User feedback options are included for improving the documentation quality.\n",
      "--------------------------------------------------------------------------------\n",
      "Search order: 2\n",
      "Link: https://community.atlassian.com/t5/Confluence-questions/Rest-API-call-to-search-content-in-a-page-and-it-s-children/qaq-p/999497\n",
      "Snippet: ... search all pages of the parent based on your text string in the search. Here is what an example would look like: http://localhost:8080/confluence/rest/api/ ...\n",
      "Summary: To implement a search feature for a Confluence wiki page and its children using the REST API, you can utilize the `/rest/api/search` endpoint with CQL. A sample query format is:\n",
      "\n",
      "```\n",
      "GET /rest/api/search?cql=parent=PAGE_ID+and+text~\"search_term\"+and+type=page\n",
      "```\n",
      "\n",
      "This allows you to search for pages under a specific parent ID. However, if the search only returns immediate children, ensure your CQL is correctly structured. Specify the correct Confluence server version for accurate results, and consult the CQL field reference for additional filter options.\n",
      "--------------------------------------------------------------------------------\n",
      "Search order: 3\n",
      "Link: https://community.developer.atlassian.com/t/how-to-search-confluence-pages-by-content-state/61595\n",
      "Snippet: Sep 15, 2022 ... The search URL in my case is something like {confluenceBaseURL}/wiki/rest/api/search?cql=content.property%5Bcontent-state-published%5D ...\n",
      "Summary: The discussion focuses on how to search Confluence pages based on their content state using the API. The author is attempting to use CQL to filter by the page content status but encounters issues since the API does not allow direct querying by custom content states (like 'in progress' or 'ready for review'). It’s clarified that while content statuses like 'draft' and 'archived' can be used in searches, custom states are not supported. Users are encouraged to file feature requests for enhancements to this functionality.\n",
      "--------------------------------------------------------------------------------\n",
      "Search order: 4\n",
      "Link: https://community.atlassian.com/t5/Confluence-questions/Searching-for-Page-by-Content/qaq-p/2594304\n",
      "Snippet: Jan 31, 2024 ... ... search API for retrieving the page by using text search. There is a ... search for Confluence content using various fields, operators is the CQL ...\n",
      "Summary: The discussion on the Atlassian Community focuses on utilizing the Confluence REST API for searching pages by content. Users can employ the Content Query Language (CQL) via the search endpoint to find pages based on keywords, enabling the construction of download and redirect URLs from search results. While the v2 API primarily addresses page retrieval by title, the v1 search API is recommended for broader content search needs. Queries can return relevant content IDs for constructing necessary URLs, with community leaders providing insights on best practices and concerns about API deprecation.\n",
      "--------------------------------------------------------------------------------\n",
      "Search order: 5\n",
      "Link: https://community.developer.atlassian.com/t/get-a-page-by-its-title/70044\n",
      "Snippet: Jun 5, 2023 ... I would use the search content endpoint (which is not deprecated) and query the page using CQL instead e.g. /wiki/rest/api/content/search ...\n",
      "Summary: In the Atlassian Developer Community, the discussion highlights the deprecation of the Confluence API v1's 'Get content' call. Users are prompted to transition to the v2 API, specifically leveraging the search content endpoint with CQL (Common Query Language) for fetching pages by title. Challenges arise when handling special characters in titles, leading to errors in requests. Workarounds involve sanitizing queries and using the CONTAINS operator instead of EQUALS. There are reports of potential fixes being worked on for improved functionality in upcoming releases.\n",
      "--------------------------------------------------------------------------------\n",
      "Search order: 6\n",
      "Link: https://confluence.atlassian.com/confkb/searching-for-content-with-the-rest-api-and-cql-always-limits-results-to-50-1032258424.html\n",
      "Snippet: Nov 25, 2020 ... Searching for content using the REST API and Confluence Query Language (CQL) always returns a maximum of 50 results, despite increasing the limit parameter.\n",
      "Summary: When searching for content in Confluence using the REST API and Confluence Query Language (CQL), results are limited to 50 if the \"body\" expansion is included in the request. To obtain up to 200 results, omit the \"body\" expansion. For example, the adjusted request should look like: BASEURL/rest/api/content/search?expand=space,history.lastUpdated&cql=...&limit=50. Note that hardcoded backend limits apply based on the specified expansions. This information is relevant for Server and Data Center platforms, with support for Server ending on February 15, 2024.\n",
      "--------------------------------------------------------------------------------\n"
     ]
    }
   ],
   "source": [
    "results = get_search_results(search_items)\n",
    "\n",
    "for result in results:\n",
    "    print(f\"Search order: {result['order']}\")\n",
    "    print(f\"Link: {result['link']}\")\n",
    "    print(f\"Snippet: {result['title']}\")\n",
    "    print(f\"Summary: {result['Summary']}\")\n",
    "    print('-' * 80)"
   ]
  },
  {
   "cell_type": "markdown",
   "id": "c0603ea9003f7c1d",
   "metadata": {},
   "source": [
    "We retrieved the most recent results. (Note these will vary depending on when you execute this script.) "
   ]
  },
  {
   "cell_type": "markdown",
   "id": "3f81cf3fd1a942c3",
   "metadata": {},
   "source": [
    "#### Step 3: Pass the information to the model to generate a RAG Response to Narrow down the target webpage\n",
    "With the search data organized in a JSON data structure, we will pass this information to the LLM to narrow down relevant webpage. \n"
   ]
  },
  {
   "cell_type": "code",
   "execution_count": 58,
   "id": "2894a01ce6c44d36",
   "metadata": {
    "ExecuteTime": {
     "end_time": "2024-09-23T18:17:27.936015Z",
     "start_time": "2024-09-23T18:17:09.751583Z"
    }
   },
   "outputs": [
    {
     "name": "stdout",
     "output_type": "stream",
     "text": [
      "SELECTED ORDER: 1\n",
      "URL: https://developer.atlassian.com/cloud/confluence/rest/v1/api-group-search/\n",
      "\n",
      "Explanation: The first search result provides a comprehensive reference for the Confluence Cloud REST API, specifically mentioning the use of the Confluence Query Language (CQL) for search functionalities. This is directly relevant to the user's query about the \"confluence_search_page_content\" endpoint, as it involves searching content using CQL.\n"
     ]
    }
   ],
   "source": [
    "import json \n",
    "\n",
    "# final_prompt = (\n",
    "#     f\"The user will provide a dictionary of search results in JSON format for search query {search_term} Based on on the search results provided by the user, provide a detailed response to this query: **'{search_query}'**. Make sure to cite all the sources at the end of your answer.\"\n",
    "# )\n",
    "\n",
    "prompt = f\"\"\"\n",
    "**System Instruction**\n",
    "You are an expert API documentation assistant. Your task is to understand the user's query on specific API endpoint, synthesize the relevant webpages from a given online search result, and select the most relevant webpage that have information on the given API endpoint and its YAML configuration in order to write a python calling request to the API.\n",
    "\n",
    "**Expected Output:**\n",
    "SELECTED ORDER: <order>\n",
    "URL: <URL>\n",
    "\n",
    "**Explanation:**\n",
    "- Replace `<order>` with the selected order number from the search results and `<URL>` with the selected URL from the search results.\n",
    "- Set <order> to -1 if the search results do not provide enough information on the user input API endpoint.\n",
    "\n",
    "**User Input:**\n",
    "The user endpoint query is: {tool_name}\n",
    "The google search query for this endpoint is: {search_term}\n",
    "The search results are: {results}\n",
    "\"\"\"\n",
    "\n",
    "\n",
    "response = client.chat.completions.create(\n",
    "    model=\"gpt-4o\",\n",
    "    messages=[\n",
    "        {\"role\": \"system\", \"content\": prompt},\n",
    "        {\"role\": \"user\", \"content\": json.dumps(results)}],\n",
    "    temperature=0\n",
    "\n",
    ")\n",
    "summary = response.choices[0].message.content\n",
    "\n",
    "print(summary)"
   ]
  },
  {
   "cell_type": "code",
   "execution_count": 59,
   "id": "405b31f2",
   "metadata": {},
   "outputs": [
    {
     "name": "stdout",
     "output_type": "stream",
     "text": [
      "Selected order: 1\n"
     ]
    }
   ],
   "source": [
    "# Parse the response to get the selected order and URL\n",
    "\n",
    "selected_order = int(summary.split('\\n')[0].split(': ')[1])\n",
    "\n",
    "print(f\"Selected order: {selected_order}\")"
   ]
  },
  {
   "cell_type": "markdown",
   "id": "32ebe3b7",
   "metadata": {},
   "source": [
    "#### Step 4: Visit the related search results and retrieve the content"
   ]
  },
  {
   "cell_type": "code",
   "execution_count": 60,
   "id": "9c681f75",
   "metadata": {},
   "outputs": [
    {
     "name": "stdout",
     "output_type": "stream",
     "text": [
      "828\n"
     ]
    }
   ],
   "source": [
    "import requests\n",
    "from bs4 import BeautifulSoup\n",
    "\n",
    "url = results[selected_order-1]['link']\n",
    "headers = {\"User-Agent\": \"Mozilla/5.0 (Windows NT 10.0; Win64; x64)\"}\n",
    "\n",
    "try:\n",
    "    response = requests.get(url, headers=headers)\n",
    "    response.raise_for_status()  # Raise HTTPError for bad responses\n",
    "    soup = BeautifulSoup(response.text, \"html.parser\")\n",
    "    \n",
    "    main_content = soup.find('body') or soup.find('div', class_='content') or soup.find('article')\n",
    "    \n",
    "    if main_content:\n",
    "        print(len(main_content.get_text(strip=True)))\n",
    "        # print(main_content.get_text(strip=True))\n",
    "    else:\n",
    "        print(\"Body content not found\")\n",
    "\n",
    "except requests.exceptions.RequestException as e:\n",
    "    print(f\"Error fetching the URL: {e}\")\n"
   ]
  },
  {
   "cell_type": "markdown",
   "id": "ecba3bc0",
   "metadata": {},
   "source": [
    "### Step 5: Extract the API specs from the webpage"
   ]
  },
  {
   "cell_type": "code",
   "execution_count": 66,
   "id": "17f04c8a",
   "metadata": {},
   "outputs": [
    {
     "name": "stdout",
     "output_type": "stream",
     "text": [
      "\n",
      "Generated YAML Configuration:\n",
      "To assist you with the Confluence API endpoint for searching page content, I will provide a YAML configuration based on the Confluence REST API documentation. The endpoint typically used for searching content in Confluence is `/rest/api/content/search`.\n",
      "\n",
      "Here's a YAML configuration for the Confluence API search page content endpoint:\n",
      "\n",
      "```yaml\n",
      "openapi: 3.1.0\n",
      "info:\n",
      "  title: Confluence REST API\n",
      "  description: This API allows you to interact with Confluence content, including searching for page content using CQL (Confluence Query Language).\n",
      "  version: 1.0.0\n",
      "servers:\n",
      "  - url: https://your-domain.atlassian.net/wiki/rest/api\n",
      "    description: Main (production) server\n",
      "paths:\n",
      "  /content/search:\n",
      "    get:\n",
      "      operationId: searchContent\n",
      "      summary: Search for content in Confluence.\n",
      "      description: Use CQL to search for content in Confluence. This endpoint allows you to search for pages, blog posts, and other content types.\n",
      "      parameters:\n",
      "        - name: cql\n",
      "          in: query\n",
      "          required: true\n",
      "          description: The CQL query to execute.\n",
      "          schema:\n",
      "            type: string\n",
      "        - name: cqlcontext\n",
      "          in: query\n",
      "          required: false\n",
      "          description: The context to execute a CQL search in, providing additional context for the search.\n",
      "          schema:\n",
      "            type: object\n",
      "        - name: expand\n",
      "          in: query\n",
      "          required: false\n",
      "          description: A comma-separated list of properties to expand on the content.\n",
      "          schema:\n",
      "            type: string\n",
      "        - name: limit\n",
      "          in: query\n",
      "          required: false\n",
      "          description: The maximum number of results to return.\n",
      "          schema:\n",
      "            type: integer\n",
      "        - name: start\n",
      "          in: query\n",
      "          required: false\n",
      "          description: The starting index of the returned results.\n",
      "          schema:\n",
      "            type: integer\n",
      "      responses:\n",
      "        '200':\n",
      "          description: A JSON object containing the search results.\n",
      "          content:\n",
      "            application/json:\n",
      "              schema:\n",
      "                type: object\n",
      "                properties:\n",
      "                  results:\n",
      "                    type: array\n",
      "                    items:\n",
      "                      type: object\n",
      "                  start:\n",
      "                    type: integer\n",
      "                  limit:\n",
      "                    type: integer\n",
      "                  size:\n",
      "                    type: integer\n",
      "                  _links:\n",
      "                    type: object\n",
      "```\n",
      "\n",
      "### Explanation:\n",
      "- **`/content/search`**: This is the endpoint used to search for content in Confluence.\n",
      "- **Parameters**:\n",
      "  - **`cql`**: Required parameter to specify the CQL query.\n",
      "  - **`cqlcontext`**: Optional parameter to provide additional context for the search.\n",
      "  - **`expand`**: Optional parameter to specify which properties to expand.\n",
      "  - **`limit`**: Optional parameter to limit the number of results.\n",
      "  - **`start`**: Optional parameter to specify the starting index for the results.\n",
      "- **Responses**: The response includes a JSON object with search results and pagination details.\n",
      "\n",
      "Please replace `https://your-domain.atlassian.net/wiki/rest/api` with your actual Confluence domain.\n"
     ]
    }
   ],
   "source": [
    "def generate_api_spec(webpage_content, tool_name, search_term):\n",
    "    userPrompt = f\"\"\"\n",
    "    The user endpoint query: {tool_name}\n",
    "    The google search query for this endpoint: {search_term}\n",
    "    Related search result (parsed html): {webpage_content}\n",
    "    \"\"\"\n",
    "    \n",
    "    try:\n",
    "        response = client.chat.completions.create(\n",
    "            model=\"gpt-4o\",\n",
    "            messages=[\n",
    "                {\"role\": \"system\", \"content\": systemPrompt_byob},\n",
    "                {\"role\": \"user\", \"content\": userPrompt}\n",
    "            ],\n",
    "            temperature=0.1\n",
    "        )\n",
    "        return response.choices[0].message.content\n",
    "    except Exception as e:\n",
    "        print(f\"Error generating YAML config: {e}\")\n",
    "        return None\n",
    "\n",
    "# Get the webpage content\n",
    "webpage_content = main_content.get_text(strip=True)\n",
    "\n",
    "# Extract YAML configuration\n",
    "yaml_config_4o = generate_api_spec(webpage_content, tool_name, search_term)\n",
    "print(\"\\nGenerated YAML Configuration:\")\n",
    "print(yaml_config)"
   ]
  },
  {
   "cell_type": "code",
   "execution_count": 67,
   "id": "40640c3c",
   "metadata": {},
   "outputs": [
    {
     "name": "stdout",
     "output_type": "stream",
     "text": [
      "\n",
      "Generated YAML Configuration (o1):\n",
      "To assist you with the Confluence API endpoint for searching page content, I will provide a YAML configuration based on the Confluence REST API documentation. The endpoint typically used for searching content in Confluence is `/rest/api/content/search`.\n",
      "\n",
      "Here's a YAML configuration for the Confluence API search page content endpoint:\n",
      "\n",
      "```yaml\n",
      "openapi: 3.1.0\n",
      "info:\n",
      "  title: Confluence REST API\n",
      "  description: This API allows you to interact with Confluence content, including searching for page content using CQL (Confluence Query Language).\n",
      "  version: 1.0.0\n",
      "servers:\n",
      "  - url: https://your-domain.atlassian.net/wiki/rest/api\n",
      "    description: Main (production) server\n",
      "paths:\n",
      "  /content/search:\n",
      "    get:\n",
      "      operationId: searchContent\n",
      "      summary: Search for content in Confluence.\n",
      "      description: Use CQL to search for content in Confluence. This endpoint allows you to search for pages, blog posts, and other content types.\n",
      "      parameters:\n",
      "        - name: cql\n",
      "          in: query\n",
      "          required: true\n",
      "          description: The CQL query to execute.\n",
      "          schema:\n",
      "            type: string\n",
      "        - name: cqlcontext\n",
      "          in: query\n",
      "          required: false\n",
      "          description: The context to execute a CQL search in, providing additional context for the search.\n",
      "          schema:\n",
      "            type: object\n",
      "        - name: expand\n",
      "          in: query\n",
      "          required: false\n",
      "          description: A comma-separated list of properties to expand on the content.\n",
      "          schema:\n",
      "            type: string\n",
      "        - name: limit\n",
      "          in: query\n",
      "          required: false\n",
      "          description: The maximum number of results to return.\n",
      "          schema:\n",
      "            type: integer\n",
      "        - name: start\n",
      "          in: query\n",
      "          required: false\n",
      "          description: The starting index of the returned results.\n",
      "          schema:\n",
      "            type: integer\n",
      "      responses:\n",
      "        '200':\n",
      "          description: A JSON object containing the search results.\n",
      "          content:\n",
      "            application/json:\n",
      "              schema:\n",
      "                type: object\n",
      "                properties:\n",
      "                  results:\n",
      "                    type: array\n",
      "                    items:\n",
      "                      type: object\n",
      "                  start:\n",
      "                    type: integer\n",
      "                  limit:\n",
      "                    type: integer\n",
      "                  size:\n",
      "                    type: integer\n",
      "                  _links:\n",
      "                    type: object\n",
      "```\n",
      "\n",
      "### Explanation:\n",
      "- **`/content/search`**: This is the endpoint used to search for content in Confluence.\n",
      "- **Parameters**:\n",
      "  - **`cql`**: Required parameter to specify the CQL query.\n",
      "  - **`cqlcontext`**: Optional parameter to provide additional context for the search.\n",
      "  - **`expand`**: Optional parameter to specify which properties to expand.\n",
      "  - **`limit`**: Optional parameter to limit the number of results.\n",
      "  - **`start`**: Optional parameter to specify the starting index for the results.\n",
      "- **Responses**: The response includes a JSON object with search results and pagination details.\n",
      "\n",
      "Please replace `https://your-domain.atlassian.net/wiki/rest/api` with your actual Confluence domain.\n"
     ]
    }
   ],
   "source": [
    "def generate_api_spec_o1(webpage_content, tool_name, search_term):\n",
    "    userPrompt = f\"\"\"\n",
    "    The user endpoint query is: {tool_name}\n",
    "    The google search query for this endpoint is: {search_term}\n",
    "    The first search result is: {webpage_content}\n",
    "    \"\"\"\n",
    "    \n",
    "    try:\n",
    "        response = client.chat.completions.create(\n",
    "            model=\"o1-mini-2024-09-12\",\n",
    "            messages=[\n",
    "                {\"role\": \"user\", \"content\": systemPrompt_byob + userPrompt}\n",
    "            ],\n",
    "        )\n",
    "        return response.choices[0].message.content\n",
    "    except Exception as e:\n",
    "        print(f\"Error generating YAML config: {e}\")\n",
    "        return None\n",
    "\n",
    "# Get the webpage content\n",
    "webpage_content = main_content.get_text(strip=True)\n",
    "\n",
    "# Extract YAML configuration\n",
    "yaml_config_o1 = generate_api_spec_o1(webpage_content, tool_name, search_term)\n",
    "print(\"\\nGenerated YAML Configuration (o1):\")\n",
    "print(yaml_config)"
   ]
  },
  {
   "cell_type": "code",
   "execution_count": 68,
   "id": "b9f932d8",
   "metadata": {},
   "outputs": [],
   "source": [
    "# Extract YAML content between ```yaml and ``` markers\n",
    "try:\n",
    "    yaml_start = yaml_config_o1.find(\"```yaml\") + 7  # Skip ```yaml\n",
    "    yaml_end = yaml_config_o1.find(\"```\", yaml_start)\n",
    "    yaml_content = yaml_config_o1[yaml_start:yaml_end].strip()\n",
    "except:\n",
    "    print(\"Can not extract YAML from model response\")"
   ]
  },
  {
   "cell_type": "code",
   "execution_count": 69,
   "id": "5d95460e",
   "metadata": {},
   "outputs": [
    {
     "data": {
      "text/plain": [
       "'openapi: 3.1.0\\ninfo:\\n  title: Confluence Cloud REST API\\n  description: >\\n    This API allows you to search for page content within your Confluence Cloud instance using Confluence Query Language (CQL).\\n  version: 1.0.0\\nservers:\\n  - url: https://api.atlassian.com/ex/confluence/{cloudid}/wiki/rest/api\\n    description: Confluence Cloud REST API Server\\n    variables:\\n      cloudid:\\n        description: Unique identifier for your Confluence Cloud instance\\n        default: your-cloud-id\\npaths:\\n  /search:\\n    get:\\n      operationId: confluence_search_page_content\\n      summary: Search for page content in Confluence\\n      description: >\\n        Retrieves pages from Confluence based on the provided Confluence Query Language (CQL) query. You can filter, sort, and expand the results as needed.\\n      parameters:\\n        - name: cql\\n          in: query\\n          description: >\\n            The Confluence Query Language (CQL) expression to filter search results.\\n          required: true\\n          schema:\\n            type: string\\n        - name: limit\\n          in: query\\n          description: >\\n            The maximum number of results to return. Default is 25.\\n          required: false\\n          schema:\\n            type: integer\\n            default: 25\\n        - name: start\\n          in: query\\n          description: >\\n            The index of the first result to return (used for pagination). Default is 0.\\n          required: false\\n          schema:\\n            type: integer\\n            default: 0\\n        - name: expand\\n          in: query\\n          description: >\\n            Additional content properties to include in the response, such as `body.storage` or `version`.\\n          required: false\\n          schema:\\n            type: string\\n      responses:\\n        \\'200\\':\\n          description: A JSON object containing the search results.\\n          content:\\n            application/json:\\n              schema:\\n                type: object\\n                properties:\\n                  results:\\n                    type: array\\n                    items:\\n                      type: object\\n                      properties:\\n                        id:\\n                          type: string\\n                          description: The unique identifier of the page.\\n                        type:\\n                          type: string\\n                          description: The type of content (e.g., \"page\").\\n                        status:\\n                          type: string\\n                          description: The status of the page (e.g., \"current\").\\n                        title:\\n                          type: string\\n                          description: The title of the page.\\n                        url:\\n                          type: string\\n                          description: The URL of the page.\\n                  size:\\n                    type: integer\\n                    description: The number of results returned.\\n                  limit:\\n                    type: integer\\n                    description: The maximum number of results that could be returned.\\n                  start:\\n                    type: integer\\n                    description: The index of the first result returned.\\n                  _links:\\n                    type: object\\n                    properties:\\n                      self:\\n                        type: string\\n                        description: The link to this search request.\\n                      next:\\n                        type: string\\n                        description: The link to the next set of results.\\n        \\'400\\':\\n          description: Bad Request - The request was invalid or cannot be served.\\n          content:\\n            application/json:\\n              schema:\\n                type: object\\n                properties:\\n                  type:\\n                    type: string\\n                  title:\\n                    type: string\\n                  status:\\n                    type: integer\\n                  detail:\\n                    type: string\\n        \\'401\\':\\n          description: Unauthorized - Authentication credentials were missing or incorrect.\\n        \\'403\\':\\n          description: Forbidden - The user does not have permission to access the requested resource.\\n        \\'500\\':\\n          description: Internal Server Error - An error occurred on the server.'"
      ]
     },
     "execution_count": 69,
     "metadata": {},
     "output_type": "execute_result"
    }
   ],
   "source": [
    "yaml_content"
   ]
  },
  {
   "cell_type": "markdown",
   "id": "8b6beba8859f1bc7",
   "metadata": {},
   "source": [
    "### Generate tool function etc. from YAML\n",
    "To further generate the tool definition, py function etc, adapt some functions in `genAPIDscp.py`"
   ]
  },
  {
   "cell_type": "code",
   "execution_count": 81,
   "id": "e93de474",
   "metadata": {},
   "outputs": [],
   "source": [
    "import yaml\n",
    "from prompts import genDscpFromYaml_withNoExec\n",
    "\n",
    "def genDscpFromYamlStr(endpoint: dict, source_yaml_path: str = None, yaml_content: str =None):\n",
    "    load_dotenv()\n",
    "    client = OpenAI(api_key=os.getenv('OPENAI_KEY'))\n",
    "    \n",
    "        \n",
    "    if yaml_content:\n",
    "        source_yaml = yaml.safe_load(yaml_content)\n",
    "    elif source_yaml_path:\n",
    "        source_yaml = yaml.safe_load(open(source_yaml_path, 'r'))\n",
    "      \n",
    "    if source_yaml:  \n",
    "        prompt = genDscpFromYaml_withNoExec.replace('{source_yaml}', str(source_yaml)).replace('{target_endpoint}', str(endpoint))\n",
    "\n",
    "    try:\n",
    "        completion = client.chat.completions.create(\n",
    "            model=\"o1-mini-2024-09-12\",\n",
    "            # model=\"gpt-4o-2024-11-20\",\n",
    "            messages=[  \n",
    "                {\"role\": \"user\", \"content\": prompt + structuredResponse}\n",
    "            ]\n",
    "            )\n",
    "        \n",
    "        response = completion.choices[0].message.content\n",
    "        \n",
    "        return response\n",
    "        \n",
    "    except Exception as e:\n",
    "        print(f\"Error generating description for {endpoint['name']}: {e}\")"
   ]
  },
  {
   "cell_type": "code",
   "execution_count": 88,
   "id": "04762e27",
   "metadata": {},
   "outputs": [],
   "source": [
    "endpoint_path = yaml.safe_load(yaml_content)['paths'].keys().__iter__().__next__()"
   ]
  },
  {
   "cell_type": "code",
   "execution_count": 82,
   "id": "d18fe6aa",
   "metadata": {},
   "outputs": [
    {
     "data": {
      "text/plain": [
       "'```json\\n{\\n    \"instruction\": \"Refer to the Confluence Cloud REST API documentation at https://developer.atlassian.com/cloud/confluence/rest/ to understand how to use the search endpoint for retrieving page content using Confluence Query Language (CQL).\",\\n    \"tool_definition\": {\\n        \"type\": \"function\",\\n        \"function\": {\\n            \"name\": \"confluence_search_page_content\",\\n            \"description\": \"Search for page content in Confluence using Confluence Query Language (CQL). Use this function to retrieve pages based on CQL queries, with options to limit the number of results, paginate through results, and expand additional content properties.\",\\n            \"parameters\": {\\n                \"type\": \"object\",\\n                \"properties\": {\\n                    \"api_key\": {\\n                        \"type\": \"string\",\\n                        \"description\": \"Your Confluence API authorization token.\"\\n                    },\\n                    \"cql\": {\\n                        \"type\": \"string\",\\n                        \"description\": \"The Confluence Query Language (CQL) expression to filter search results.\"\\n                    },\\n                    \"limit\": {\\n                        \"type\": \"integer\",\\n                        \"description\": \"The maximum number of results to return. Default is 25.\"\\n                    },\\n                    \"start\": {\\n                        \"type\": \"integer\",\\n                        \"description\": \"The index of the first result to return (used for pagination). Default is 0.\"\\n                    },\\n                    \"expand\": {\\n                        \"type\": \"string\",\\n                        \"description\": \"Additional content properties to include in the response, such as `body.storage` or `version`.\"\\n                    }\\n                },\\n                \"required\": [\"api_key\", \"cql\"],\\n                \"additionalProperties\": false\\n            }\\n        }\\n    },\\n    \"tool_function\": \"import requests\\\\n\\\\ndef confluence_search_page_content(api_key, cql, limit=25, start=0, expand=None):\\\\n    \\\\\"\\\\\"\\\\\"\\\\n    Search for page content in Confluence using Confluence Query Language (CQL).\\\\n    \\\\n    Args:\\\\n        api_key (str): Your Confluence API authorization token.\\\\n        cql (str): The CQL expression to filter search results.\\\\n        limit (int, optional): Maximum number of results to return. Defaults to 25.\\\\n        start (int, optional): Index of the first result to return for pagination. Defaults to 0.\\\\n        expand (str, optional): Additional content properties to include in the response.\\\\n    \\\\n    Returns:\\\\n        dict: JSON response from the Confluence API containing search results.\\\\n    \\\\n    Raises:\\\\n        requests.exceptions.HTTPError: If the API request fails.\\\\n    \\\\\"\\\\\"\\\\\"\\\\n    url = \\'https://api.atlassian.com/ex/confluence/your-cloud-id/wiki/rest/api/search\\'\\\\n    headers = {\\\\n        \\'Authorization\\': f\\'Bearer {api_key}\\',\\\\n        \\'Accept\\': \\'application/json\\'\\\\n    }\\\\n    params = {\\\\n        \\'cql\\': cql,\\\\n        \\'limit\\': limit,\\\\n        \\'start\\': start\\\\n    }\\\\n    if expand:\\\\n        params[\\'expand\\'] = expand\\\\n    response = requests.get(url, headers=headers, params=params)\\\\n    response.raise_for_status()\\\\n    return response.json()\"\\n}\\n```'"
      ]
     },
     "execution_count": 82,
     "metadata": {},
     "output_type": "execute_result"
    }
   ],
   "source": [
    "response = genDscpFromYamlStr(endpoint = endpoint_path, yaml_content=yaml_content)\n",
    "response"
   ]
  },
  {
   "cell_type": "markdown",
   "id": "f9ef65c8",
   "metadata": {},
   "source": [
    "Response preview"
   ]
  },
  {
   "cell_type": "code",
   "execution_count": 90,
   "id": "0e4d63e9",
   "metadata": {},
   "outputs": [
    {
     "name": "stdout",
     "output_type": "stream",
     "text": [
      "Valid response format for confluence_search_page_content\n"
     ]
    }
   ],
   "source": [
    "import json\n",
    "from genAPIDscp import responseFormatCheck\n",
    "\n",
    "OUTPUT_DIR = '.'\n",
    "                        \n",
    "if response.startswith('```json') and response.endswith('```'):\n",
    "    r = response[7:-3].strip('\\n')\n",
    "                        \n",
    "    try:\n",
    "        endpoint_name = json.loads(r).get('tool_definition', {}).get('function', {}).get('name', 'unnamed')\n",
    "    except Exception as e:\n",
    "        print(f\"Error parsing response for {endpoint.get('name', 'unnamed')}: {e}\")\n",
    "        print(r)\n",
    "        endpoint_name = endpoint.get('name', 'unnamed')\n",
    "                        \n",
    "    if responseFormatCheck(r):\n",
    "        print(f\"Valid response format for {endpoint_name}\")\n",
    "    else:\n",
    "        print(f\"Invalid response format for {endpoint_name}\")\n",
    "        print(r)\n",
    "        raise Exception\n",
    "                    \n",
    "    with open(OUTPUT_DIR + '/' + endpoint_name + '.json', 'a') as f:\n",
    "        # f.write(f\"\\n\\n=== Processing endpoint {endpoint.get('name', 'unnamed')} from {yaml_path} ===\\n\")\n",
    "        f.write(r)\n",
    "        # f.write(\"\\n\")"
   ]
  },
  {
   "cell_type": "markdown",
   "id": "b388dc92",
   "metadata": {},
   "source": [
    "### Postprocess\n",
    "If Jira AA-44 worked, do not need to process this on server!\n",
    "\n",
    "Parse tool function string and add decorators, like `process_func_str` at `AAPI/aapi/utils.py`\n"
   ]
  }
 ],
 "metadata": {
  "kernelspec": {
   "display_name": "Python 3",
   "language": "python",
   "name": "python3"
  },
  "language_info": {
   "codemirror_mode": {
    "name": "ipython",
    "version": 3
   },
   "file_extension": ".py",
   "mimetype": "text/x-python",
   "name": "python",
   "nbconvert_exporter": "python",
   "pygments_lexer": "ipython3",
   "version": "3.12.0"
  }
 },
 "nbformat": 4,
 "nbformat_minor": 5
}
