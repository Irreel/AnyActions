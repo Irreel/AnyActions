{
 "cells": [
  {
   "cell_type": "markdown",
   "id": "7f59879cabc55a5e",
   "metadata": {},
   "source": [
    "## Building a Bring Your Own Browser (BYOB) Tool for Web Browsing and Summarization\n",
    "\n",
    "**Disclaimer: This cookbook is for educational purposes only. Ensure that you comply with all applicable laws and service terms when using web search and scraping technologies. This cookbook will restrict the search to openai.com domain to retrieve the public information to illustrate the concepts.**\n",
    "\n",
    "Large Language Models (LLMs) such as GPT-4o have a knowledge cutoff date, which means they lack information about events that occurred after that point. In scenarios where the most recent data is essential, it's necessary to provide LLMs with access to current web information to ensure accurate and relevant responses.\n",
    "\n",
    "In this guide, we will build a Bring Your Own Browser (BYOB) tool using Python to overcome this limitation. Our goal is to create a system that provides up-to-date answers in your application, including the most recent developments such as the latest product launches by OpenAI. By integrating web search capabilities with an LLM, we'll enable the model to generate responses based on the latest information available online.\n",
    "\n",
    "While you can use any publicly available search APIs, we'll utilize Google's Custom Search API to perform web searches. The retrieved information from the search results will be processed and passed to the LLM to generate the final response through Retrieval-Augmented Generation (RAG).\n",
    "\n",
    "**Bring Your Own Browser (BYOB)** tools allow users to perform web browsing tasks programmatically. In this notebook, we'll create a BYOB tool that:\n",
    "\n",
    "**#1. Set Up a Search Engine:** Use a public search API, such as Google's Custom Search API, to perform web searches and obtain a list of relevant search results.  \n",
    "\n",
    "**#2. Build a Search Dictionary:** Collect the title, URL, and a summary of each web page from the search results to create a structured dictionary of information.  \n",
    "\n",
    "**#3. Generate a RAG Response:** Implement Retrieval-Augmented Generation (RAG) by passing the gathered information to the LLM, which then generates a final response to the user's query.\n",
    "\n",
    "------\n",
    "**For our own usecase**\n",
    "\n",
    "- Add additional steps to select relevant webpages\n",
    "  \n",
    "- Parsed relevant webpages with BeautifulSoup\n",
    "- Generate a yaml file\n",
    "\n",
    "-> The followup *generate function from yaml* process is the same as the data process pipeline on existing db (`openapis`)\n"
   ]
  },
  {
   "cell_type": "code",
   "execution_count": 1,
   "id": "25223c09",
   "metadata": {},
   "outputs": [],
   "source": [
    "systemPrompt_byob = \"\"\"\n",
    "**System Instruction:**\n",
    "You are an expert API documentation assistant. Your task is to assist users in finding API endpoint information using provided search terms, synthesize the relevant details from online sources, and generate a YAML configuration for the given API endpoint. The YAML should include standard fields such as name, description, method, endpoint URL, parameters, and any other necessary details.\n",
    "\n",
    "**Expected Output:**\n",
    "1. Understand user endpoint search query, and find reliable and updated documentation for the specified API endpoint based on the google search term and its search result.\n",
    "2. Extract the relevant information, including endpoint details, HTTP method, parameters, and usage examples.\n",
    "3. Generate a YAML configuration based on openapi 3.1.0 looking like this:\n",
    "\n",
    "```yaml\n",
    "openapi: 3.1.0\n",
    "info:\n",
    "  title: <Sample API Title>\n",
    "  description: <Optional multiline or single-line description in [CommonMark](http://commonmark.org/help/) or HTML>\n",
    "  version: <0.1.9>\n",
    "servers:\n",
    "  - url: <API Service Provider Documentation URL, like http://api.example.com/v1>\n",
    "    description: <Optional server description, e.g. Main (production) server>\n",
    "paths:\n",
    "  /users:\n",
    "    get:\n",
    "      operationId: getUsers\n",
    "      summary: Returns a list of users.\n",
    "      description: Optional extended description in CommonMark or HTML.\n",
    "      responses:\n",
    "        '200':\n",
    "          description: A JSON array of user names\n",
    "          content:\n",
    "            application/json:\n",
    "              schema:\n",
    "                type: array\n",
    "                items:\n",
    "                  type: string\n",
    "    post:\n",
    "      operationId: createUser\n",
    "      summary: Creates a user.\n",
    "      requestBody:\n",
    "        required: true\n",
    "        content:\n",
    "          application/json:\n",
    "            schema:\n",
    "              type: object\n",
    "              properties:\n",
    "                username:\n",
    "                  type: string\n",
    "      responses:\n",
    "        '201':\n",
    "          description: Created\n",
    "```\n",
    "\n",
    "**Explanation:**\n",
    "- Replace `<placeholders>` with the extracted API information.\n",
    "- Replace `paths` part based on the valid endpoint you found, do not miss operationId\n",
    "- Ensure the YAML structure is complete and adheres to standard YAML formatting rules.\n",
    "\n",
    "**Additional Guidelines:**\n",
    "- Validate the endpoint and parameter descriptions against the official API documentation.\n",
    "- Always ensure the output is tailored to the user’s use case.\n",
    "\"\"\"\n"
   ]
  },
  {
   "cell_type": "markdown",
   "id": "1e95055b8cec006e",
   "metadata": {},
   "source": [
    "### Use Case \n",
    "In this cookbook, we'll take the example of a user who wants to list recent product launches by OpenAI in chronological order. Because the current GPT-4o model has a knowledge cutoff date, it is not expected that the model will know about recent product launches such as the o1-preview model launched in September 2024. \n"
   ]
  },
  {
   "cell_type": "code",
   "execution_count": 2,
   "id": "d1ecc3b9dc1840d",
   "metadata": {
    "ExecuteTime": {
     "end_time": "2024-09-23T18:07:34.124609Z",
     "start_time": "2024-09-23T18:07:29.838089Z"
    }
   },
   "outputs": [],
   "source": [
    "import os\n",
    "from openai import OpenAI\n",
    "from dotenv import load_dotenv\n",
    "\n",
    "load_dotenv('.env')\n",
    "\n",
    "client = OpenAI(api_key=os.getenv('OPENAI_API_KEY'))\n",
    "\n",
    "# tool_name = \"confluence_search_page_content\"\n",
    "tool_name = \"reverse_geocoding_api\"\n"
   ]
  },
  {
   "cell_type": "markdown",
   "id": "d4e80aeaa52c8dc",
   "metadata": {},
   "source": [
    "Given the knowledge cutoff, as expected the model does not know about the recent product launches by OpenAI."
   ]
  },
  {
   "cell_type": "markdown",
   "id": "9d34362ceef5a331",
   "metadata": {},
   "source": [
    "### Setting up a BYOB tool\n",
    "To provide the model with recent events information, we'll follow these steps:\n",
    "\n",
    "##### Step 1: Set Up a Search Engine to Provide Web Search Results\n",
    "##### Step 2: Build a Search Dictionary with Titles, URLs, and Summaries of Web Pages\n",
    "##### Step 3: Pass the information to the model to generate a RAG Response to the User Query  \n",
    "\n",
    "\n",
    "Before we begin, ensure you have the following: **Python 3.12 or later** installed on your machine. You will also need a Google Custom Search API key and Custom Search Engine ID (CSE ID). Necessary Python packages installed: `requests`, `beautifulsoup4`, `openai`. And ensure the OPENAI_API_KEY is set up as an environment variable."
   ]
  },
  {
   "cell_type": "markdown",
   "id": "1a766088c001c30b",
   "metadata": {},
   "source": [
    "#### Step 1: Set Up a Search Engine to Provide Web Search Results\n",
    "You can use any publicly available web search APIs to perform this task. We will configure a custom search engine using Google's Custom Search API. This engine will fetch a list of relevant web pages based on the user's query, focusing on obtaining the most recent and pertinent results.  \n",
    "\n",
    "**a. Configure Search API key and Function:** Acquire a Google API key and a Custom Search Engine ID (CSE ID) from the Google Developers Console. You can navigate to this [Programmable Search Engine Link](https://developers.google.com/custom-search/v1/overview) to set up an API key as well as Custom Search Engine ID (CSE ID). \n",
    "\n",
    "The `search` function below sets up the search based on search term, the API and CSE ID keys, as well as number of search results to return. We'll introduce a parameter `site_filter` to restrict the output to only `openai.com`\n",
    "  "
   ]
  },
  {
   "cell_type": "code",
   "execution_count": 3,
   "id": "7df836efe1589633",
   "metadata": {
    "ExecuteTime": {
     "end_time": "2024-09-23T18:08:59.171800Z",
     "start_time": "2024-09-23T18:08:59.164245Z"
    }
   },
   "outputs": [],
   "source": [
    "import requests  # For making HTTP requests to APIs and websites\n",
    "\n",
    "def search(search_item, api_key, cse_id, search_depth=10, site_filter=None):\n",
    "    service_url = 'https://www.googleapis.com/customsearch/v1'\n",
    "\n",
    "    params = {\n",
    "        'q': search_item,\n",
    "        'key': api_key,\n",
    "        'cx': cse_id,\n",
    "        'num': search_depth\n",
    "    }\n",
    "\n",
    "    try:\n",
    "        response = requests.get(service_url, params=params)\n",
    "        response.raise_for_status()\n",
    "        results = response.json()\n",
    "\n",
    "        # Check if 'items' exists in the results\n",
    "        if 'items' in results:\n",
    "            if site_filter is not None:\n",
    "                \n",
    "                # Filter results to include only those with site_filter in the link\n",
    "                filtered_results = [result for result in results['items'] if site_filter in result['link']]\n",
    "\n",
    "                if filtered_results:\n",
    "                    return filtered_results\n",
    "                else:\n",
    "                    print(f\"No results with {site_filter} found.\")\n",
    "                    return []\n",
    "            else:\n",
    "                if 'items' in results:\n",
    "                    return results['items']\n",
    "                else:\n",
    "                    print(\"No search results found.\")\n",
    "                    return []\n",
    "\n",
    "    except requests.exceptions.RequestException as e:\n",
    "        print(f\"An error occurred during the search: {e}\")\n",
    "        return []\n"
   ]
  },
  {
   "cell_type": "markdown",
   "id": "dcee6754a2e6cd24",
   "metadata": {},
   "source": [
    "**b. Identify the search terms for search engine:** Before we can retrieve specific results from a 3rd Party API, we may need to use Query Expansion to identify specific terms our browser search API should retrieve. **Query expansion** is a process where we broaden the original user query by adding related terms, synonyms, or variations. This technique is essential because search engines, like Google's Custom Search API, are often better at matching a range of related terms rather than just the natural language prompt used by a user. \n",
    "\n",
    "For example, searching with only the raw query `\"List the latest OpenAI product launches in chronological order from latest to oldest in the past 2 years\"` may return fewer and less relevant results than a more specific and direct search on a succinct phrase such as `\"Latest OpenAI product launches\"`. In the code below, we will use the user's original `search_query` to produce a more specific search term to use with the Google API to retrieve the results. "
   ]
  },
  {
   "cell_type": "code",
   "execution_count": 4,
   "id": "3752702114df8160",
   "metadata": {
    "ExecuteTime": {
     "end_time": "2024-09-23T18:09:00.816893Z",
     "start_time": "2024-09-23T18:09:00.150843Z"
    }
   },
   "outputs": [
    {
     "ename": "InternalServerError",
     "evalue": "Error code: 500 - {'error': {'message': 'Timed out generating response. Please try again with a shorter prompt or with `max_tokens` set to a lower value.', 'type': 'internal_error', 'param': None, 'code': 'request_timeout'}}",
     "output_type": "error",
     "traceback": [
      "\u001b[0;31m---------------------------------------------------------------------------\u001b[0m",
      "\u001b[0;31mInternalServerError\u001b[0m                       Traceback (most recent call last)",
      "Cell \u001b[0;32mIn[4], line 1\u001b[0m\n\u001b[0;32m----> 1\u001b[0m search_term \u001b[38;5;241m=\u001b[39m client\u001b[38;5;241m.\u001b[39mchat\u001b[38;5;241m.\u001b[39mcompletions\u001b[38;5;241m.\u001b[39mcreate(\n\u001b[1;32m      2\u001b[0m     model\u001b[38;5;241m=\u001b[39m\u001b[38;5;124m\"\u001b[39m\u001b[38;5;124mgpt-4o\u001b[39m\u001b[38;5;124m\"\u001b[39m,\n\u001b[1;32m      3\u001b[0m     messages\u001b[38;5;241m=\u001b[39m[\n\u001b[1;32m      4\u001b[0m         {\u001b[38;5;124m\"\u001b[39m\u001b[38;5;124mrole\u001b[39m\u001b[38;5;124m\"\u001b[39m: \u001b[38;5;124m\"\u001b[39m\u001b[38;5;124msystem\u001b[39m\u001b[38;5;124m\"\u001b[39m, \u001b[38;5;124m\"\u001b[39m\u001b[38;5;124mcontent\u001b[39m\u001b[38;5;124m\"\u001b[39m: \u001b[38;5;124m\"\u001b[39m\u001b[38;5;124mYou are an expert API documentation assistant. Provide a google search term to find the target API endpoint documentation based on search query provided below in 4-6 words\u001b[39m\u001b[38;5;124m\"\u001b[39m},\n\u001b[1;32m      5\u001b[0m         {\u001b[38;5;124m\"\u001b[39m\u001b[38;5;124mrole\u001b[39m\u001b[38;5;124m\"\u001b[39m: \u001b[38;5;124m\"\u001b[39m\u001b[38;5;124muser\u001b[39m\u001b[38;5;124m\"\u001b[39m, \u001b[38;5;124m\"\u001b[39m\u001b[38;5;124mcontent\u001b[39m\u001b[38;5;124m\"\u001b[39m: tool_name}]\n\u001b[1;32m      6\u001b[0m )\u001b[38;5;241m.\u001b[39mchoices[\u001b[38;5;241m0\u001b[39m]\u001b[38;5;241m.\u001b[39mmessage\u001b[38;5;241m.\u001b[39mcontent\n\u001b[1;32m      8\u001b[0m \u001b[38;5;28mprint\u001b[39m(search_term)\n",
      "File \u001b[0;32m~/opt/anaconda3/envs/agent/lib/python3.12/site-packages/openai/_utils/_utils.py:275\u001b[0m, in \u001b[0;36mrequired_args.<locals>.inner.<locals>.wrapper\u001b[0;34m(*args, **kwargs)\u001b[0m\n\u001b[1;32m    273\u001b[0m             msg \u001b[38;5;241m=\u001b[39m \u001b[38;5;124mf\u001b[39m\u001b[38;5;124m\"\u001b[39m\u001b[38;5;124mMissing required argument: \u001b[39m\u001b[38;5;132;01m{\u001b[39;00mquote(missing[\u001b[38;5;241m0\u001b[39m])\u001b[38;5;132;01m}\u001b[39;00m\u001b[38;5;124m\"\u001b[39m\n\u001b[1;32m    274\u001b[0m     \u001b[38;5;28;01mraise\u001b[39;00m \u001b[38;5;167;01mTypeError\u001b[39;00m(msg)\n\u001b[0;32m--> 275\u001b[0m \u001b[38;5;28;01mreturn\u001b[39;00m func(\u001b[38;5;241m*\u001b[39margs, \u001b[38;5;241m*\u001b[39m\u001b[38;5;241m*\u001b[39mkwargs)\n",
      "File \u001b[0;32m~/opt/anaconda3/envs/agent/lib/python3.12/site-packages/openai/resources/chat/completions.py:829\u001b[0m, in \u001b[0;36mCompletions.create\u001b[0;34m(self, messages, model, audio, frequency_penalty, function_call, functions, logit_bias, logprobs, max_completion_tokens, max_tokens, metadata, modalities, n, parallel_tool_calls, prediction, presence_penalty, response_format, seed, service_tier, stop, store, stream, stream_options, temperature, tool_choice, tools, top_logprobs, top_p, user, extra_headers, extra_query, extra_body, timeout)\u001b[0m\n\u001b[1;32m    788\u001b[0m \u001b[38;5;129m@required_args\u001b[39m([\u001b[38;5;124m\"\u001b[39m\u001b[38;5;124mmessages\u001b[39m\u001b[38;5;124m\"\u001b[39m, \u001b[38;5;124m\"\u001b[39m\u001b[38;5;124mmodel\u001b[39m\u001b[38;5;124m\"\u001b[39m], [\u001b[38;5;124m\"\u001b[39m\u001b[38;5;124mmessages\u001b[39m\u001b[38;5;124m\"\u001b[39m, \u001b[38;5;124m\"\u001b[39m\u001b[38;5;124mmodel\u001b[39m\u001b[38;5;124m\"\u001b[39m, \u001b[38;5;124m\"\u001b[39m\u001b[38;5;124mstream\u001b[39m\u001b[38;5;124m\"\u001b[39m])\n\u001b[1;32m    789\u001b[0m \u001b[38;5;28;01mdef\u001b[39;00m \u001b[38;5;21mcreate\u001b[39m(\n\u001b[1;32m    790\u001b[0m     \u001b[38;5;28mself\u001b[39m,\n\u001b[0;32m   (...)\u001b[0m\n\u001b[1;32m    826\u001b[0m     timeout: \u001b[38;5;28mfloat\u001b[39m \u001b[38;5;241m|\u001b[39m httpx\u001b[38;5;241m.\u001b[39mTimeout \u001b[38;5;241m|\u001b[39m \u001b[38;5;28;01mNone\u001b[39;00m \u001b[38;5;241m|\u001b[39m NotGiven \u001b[38;5;241m=\u001b[39m NOT_GIVEN,\n\u001b[1;32m    827\u001b[0m ) \u001b[38;5;241m-\u001b[39m\u001b[38;5;241m>\u001b[39m ChatCompletion \u001b[38;5;241m|\u001b[39m Stream[ChatCompletionChunk]:\n\u001b[1;32m    828\u001b[0m     validate_response_format(response_format)\n\u001b[0;32m--> 829\u001b[0m     \u001b[38;5;28;01mreturn\u001b[39;00m \u001b[38;5;28mself\u001b[39m\u001b[38;5;241m.\u001b[39m_post(\n\u001b[1;32m    830\u001b[0m         \u001b[38;5;124m\"\u001b[39m\u001b[38;5;124m/chat/completions\u001b[39m\u001b[38;5;124m\"\u001b[39m,\n\u001b[1;32m    831\u001b[0m         body\u001b[38;5;241m=\u001b[39mmaybe_transform(\n\u001b[1;32m    832\u001b[0m             {\n\u001b[1;32m    833\u001b[0m                 \u001b[38;5;124m\"\u001b[39m\u001b[38;5;124mmessages\u001b[39m\u001b[38;5;124m\"\u001b[39m: messages,\n\u001b[1;32m    834\u001b[0m                 \u001b[38;5;124m\"\u001b[39m\u001b[38;5;124mmodel\u001b[39m\u001b[38;5;124m\"\u001b[39m: model,\n\u001b[1;32m    835\u001b[0m                 \u001b[38;5;124m\"\u001b[39m\u001b[38;5;124maudio\u001b[39m\u001b[38;5;124m\"\u001b[39m: audio,\n\u001b[1;32m    836\u001b[0m                 \u001b[38;5;124m\"\u001b[39m\u001b[38;5;124mfrequency_penalty\u001b[39m\u001b[38;5;124m\"\u001b[39m: frequency_penalty,\n\u001b[1;32m    837\u001b[0m                 \u001b[38;5;124m\"\u001b[39m\u001b[38;5;124mfunction_call\u001b[39m\u001b[38;5;124m\"\u001b[39m: function_call,\n\u001b[1;32m    838\u001b[0m                 \u001b[38;5;124m\"\u001b[39m\u001b[38;5;124mfunctions\u001b[39m\u001b[38;5;124m\"\u001b[39m: functions,\n\u001b[1;32m    839\u001b[0m                 \u001b[38;5;124m\"\u001b[39m\u001b[38;5;124mlogit_bias\u001b[39m\u001b[38;5;124m\"\u001b[39m: logit_bias,\n\u001b[1;32m    840\u001b[0m                 \u001b[38;5;124m\"\u001b[39m\u001b[38;5;124mlogprobs\u001b[39m\u001b[38;5;124m\"\u001b[39m: logprobs,\n\u001b[1;32m    841\u001b[0m                 \u001b[38;5;124m\"\u001b[39m\u001b[38;5;124mmax_completion_tokens\u001b[39m\u001b[38;5;124m\"\u001b[39m: max_completion_tokens,\n\u001b[1;32m    842\u001b[0m                 \u001b[38;5;124m\"\u001b[39m\u001b[38;5;124mmax_tokens\u001b[39m\u001b[38;5;124m\"\u001b[39m: max_tokens,\n\u001b[1;32m    843\u001b[0m                 \u001b[38;5;124m\"\u001b[39m\u001b[38;5;124mmetadata\u001b[39m\u001b[38;5;124m\"\u001b[39m: metadata,\n\u001b[1;32m    844\u001b[0m                 \u001b[38;5;124m\"\u001b[39m\u001b[38;5;124mmodalities\u001b[39m\u001b[38;5;124m\"\u001b[39m: modalities,\n\u001b[1;32m    845\u001b[0m                 \u001b[38;5;124m\"\u001b[39m\u001b[38;5;124mn\u001b[39m\u001b[38;5;124m\"\u001b[39m: n,\n\u001b[1;32m    846\u001b[0m                 \u001b[38;5;124m\"\u001b[39m\u001b[38;5;124mparallel_tool_calls\u001b[39m\u001b[38;5;124m\"\u001b[39m: parallel_tool_calls,\n\u001b[1;32m    847\u001b[0m                 \u001b[38;5;124m\"\u001b[39m\u001b[38;5;124mprediction\u001b[39m\u001b[38;5;124m\"\u001b[39m: prediction,\n\u001b[1;32m    848\u001b[0m                 \u001b[38;5;124m\"\u001b[39m\u001b[38;5;124mpresence_penalty\u001b[39m\u001b[38;5;124m\"\u001b[39m: presence_penalty,\n\u001b[1;32m    849\u001b[0m                 \u001b[38;5;124m\"\u001b[39m\u001b[38;5;124mresponse_format\u001b[39m\u001b[38;5;124m\"\u001b[39m: response_format,\n\u001b[1;32m    850\u001b[0m                 \u001b[38;5;124m\"\u001b[39m\u001b[38;5;124mseed\u001b[39m\u001b[38;5;124m\"\u001b[39m: seed,\n\u001b[1;32m    851\u001b[0m                 \u001b[38;5;124m\"\u001b[39m\u001b[38;5;124mservice_tier\u001b[39m\u001b[38;5;124m\"\u001b[39m: service_tier,\n\u001b[1;32m    852\u001b[0m                 \u001b[38;5;124m\"\u001b[39m\u001b[38;5;124mstop\u001b[39m\u001b[38;5;124m\"\u001b[39m: stop,\n\u001b[1;32m    853\u001b[0m                 \u001b[38;5;124m\"\u001b[39m\u001b[38;5;124mstore\u001b[39m\u001b[38;5;124m\"\u001b[39m: store,\n\u001b[1;32m    854\u001b[0m                 \u001b[38;5;124m\"\u001b[39m\u001b[38;5;124mstream\u001b[39m\u001b[38;5;124m\"\u001b[39m: stream,\n\u001b[1;32m    855\u001b[0m                 \u001b[38;5;124m\"\u001b[39m\u001b[38;5;124mstream_options\u001b[39m\u001b[38;5;124m\"\u001b[39m: stream_options,\n\u001b[1;32m    856\u001b[0m                 \u001b[38;5;124m\"\u001b[39m\u001b[38;5;124mtemperature\u001b[39m\u001b[38;5;124m\"\u001b[39m: temperature,\n\u001b[1;32m    857\u001b[0m                 \u001b[38;5;124m\"\u001b[39m\u001b[38;5;124mtool_choice\u001b[39m\u001b[38;5;124m\"\u001b[39m: tool_choice,\n\u001b[1;32m    858\u001b[0m                 \u001b[38;5;124m\"\u001b[39m\u001b[38;5;124mtools\u001b[39m\u001b[38;5;124m\"\u001b[39m: tools,\n\u001b[1;32m    859\u001b[0m                 \u001b[38;5;124m\"\u001b[39m\u001b[38;5;124mtop_logprobs\u001b[39m\u001b[38;5;124m\"\u001b[39m: top_logprobs,\n\u001b[1;32m    860\u001b[0m                 \u001b[38;5;124m\"\u001b[39m\u001b[38;5;124mtop_p\u001b[39m\u001b[38;5;124m\"\u001b[39m: top_p,\n\u001b[1;32m    861\u001b[0m                 \u001b[38;5;124m\"\u001b[39m\u001b[38;5;124muser\u001b[39m\u001b[38;5;124m\"\u001b[39m: user,\n\u001b[1;32m    862\u001b[0m             },\n\u001b[1;32m    863\u001b[0m             completion_create_params\u001b[38;5;241m.\u001b[39mCompletionCreateParams,\n\u001b[1;32m    864\u001b[0m         ),\n\u001b[1;32m    865\u001b[0m         options\u001b[38;5;241m=\u001b[39mmake_request_options(\n\u001b[1;32m    866\u001b[0m             extra_headers\u001b[38;5;241m=\u001b[39mextra_headers, extra_query\u001b[38;5;241m=\u001b[39mextra_query, extra_body\u001b[38;5;241m=\u001b[39mextra_body, timeout\u001b[38;5;241m=\u001b[39mtimeout\n\u001b[1;32m    867\u001b[0m         ),\n\u001b[1;32m    868\u001b[0m         cast_to\u001b[38;5;241m=\u001b[39mChatCompletion,\n\u001b[1;32m    869\u001b[0m         stream\u001b[38;5;241m=\u001b[39mstream \u001b[38;5;129;01mor\u001b[39;00m \u001b[38;5;28;01mFalse\u001b[39;00m,\n\u001b[1;32m    870\u001b[0m         stream_cls\u001b[38;5;241m=\u001b[39mStream[ChatCompletionChunk],\n\u001b[1;32m    871\u001b[0m     )\n",
      "File \u001b[0;32m~/opt/anaconda3/envs/agent/lib/python3.12/site-packages/openai/_base_client.py:1280\u001b[0m, in \u001b[0;36mSyncAPIClient.post\u001b[0;34m(self, path, cast_to, body, options, files, stream, stream_cls)\u001b[0m\n\u001b[1;32m   1266\u001b[0m \u001b[38;5;28;01mdef\u001b[39;00m \u001b[38;5;21mpost\u001b[39m(\n\u001b[1;32m   1267\u001b[0m     \u001b[38;5;28mself\u001b[39m,\n\u001b[1;32m   1268\u001b[0m     path: \u001b[38;5;28mstr\u001b[39m,\n\u001b[0;32m   (...)\u001b[0m\n\u001b[1;32m   1275\u001b[0m     stream_cls: \u001b[38;5;28mtype\u001b[39m[_StreamT] \u001b[38;5;241m|\u001b[39m \u001b[38;5;28;01mNone\u001b[39;00m \u001b[38;5;241m=\u001b[39m \u001b[38;5;28;01mNone\u001b[39;00m,\n\u001b[1;32m   1276\u001b[0m ) \u001b[38;5;241m-\u001b[39m\u001b[38;5;241m>\u001b[39m ResponseT \u001b[38;5;241m|\u001b[39m _StreamT:\n\u001b[1;32m   1277\u001b[0m     opts \u001b[38;5;241m=\u001b[39m FinalRequestOptions\u001b[38;5;241m.\u001b[39mconstruct(\n\u001b[1;32m   1278\u001b[0m         method\u001b[38;5;241m=\u001b[39m\u001b[38;5;124m\"\u001b[39m\u001b[38;5;124mpost\u001b[39m\u001b[38;5;124m\"\u001b[39m, url\u001b[38;5;241m=\u001b[39mpath, json_data\u001b[38;5;241m=\u001b[39mbody, files\u001b[38;5;241m=\u001b[39mto_httpx_files(files), \u001b[38;5;241m*\u001b[39m\u001b[38;5;241m*\u001b[39moptions\n\u001b[1;32m   1279\u001b[0m     )\n\u001b[0;32m-> 1280\u001b[0m     \u001b[38;5;28;01mreturn\u001b[39;00m cast(ResponseT, \u001b[38;5;28mself\u001b[39m\u001b[38;5;241m.\u001b[39mrequest(cast_to, opts, stream\u001b[38;5;241m=\u001b[39mstream, stream_cls\u001b[38;5;241m=\u001b[39mstream_cls))\n",
      "File \u001b[0;32m~/opt/anaconda3/envs/agent/lib/python3.12/site-packages/openai/_base_client.py:957\u001b[0m, in \u001b[0;36mSyncAPIClient.request\u001b[0;34m(self, cast_to, options, remaining_retries, stream, stream_cls)\u001b[0m\n\u001b[1;32m    954\u001b[0m \u001b[38;5;28;01melse\u001b[39;00m:\n\u001b[1;32m    955\u001b[0m     retries_taken \u001b[38;5;241m=\u001b[39m \u001b[38;5;241m0\u001b[39m\n\u001b[0;32m--> 957\u001b[0m \u001b[38;5;28;01mreturn\u001b[39;00m \u001b[38;5;28mself\u001b[39m\u001b[38;5;241m.\u001b[39m_request(\n\u001b[1;32m    958\u001b[0m     cast_to\u001b[38;5;241m=\u001b[39mcast_to,\n\u001b[1;32m    959\u001b[0m     options\u001b[38;5;241m=\u001b[39moptions,\n\u001b[1;32m    960\u001b[0m     stream\u001b[38;5;241m=\u001b[39mstream,\n\u001b[1;32m    961\u001b[0m     stream_cls\u001b[38;5;241m=\u001b[39mstream_cls,\n\u001b[1;32m    962\u001b[0m     retries_taken\u001b[38;5;241m=\u001b[39mretries_taken,\n\u001b[1;32m    963\u001b[0m )\n",
      "File \u001b[0;32m~/opt/anaconda3/envs/agent/lib/python3.12/site-packages/openai/_base_client.py:1046\u001b[0m, in \u001b[0;36mSyncAPIClient._request\u001b[0;34m(self, cast_to, options, retries_taken, stream, stream_cls)\u001b[0m\n\u001b[1;32m   1044\u001b[0m \u001b[38;5;28;01mif\u001b[39;00m remaining_retries \u001b[38;5;241m>\u001b[39m \u001b[38;5;241m0\u001b[39m \u001b[38;5;129;01mand\u001b[39;00m \u001b[38;5;28mself\u001b[39m\u001b[38;5;241m.\u001b[39m_should_retry(err\u001b[38;5;241m.\u001b[39mresponse):\n\u001b[1;32m   1045\u001b[0m     err\u001b[38;5;241m.\u001b[39mresponse\u001b[38;5;241m.\u001b[39mclose()\n\u001b[0;32m-> 1046\u001b[0m     \u001b[38;5;28;01mreturn\u001b[39;00m \u001b[38;5;28mself\u001b[39m\u001b[38;5;241m.\u001b[39m_retry_request(\n\u001b[1;32m   1047\u001b[0m         input_options,\n\u001b[1;32m   1048\u001b[0m         cast_to,\n\u001b[1;32m   1049\u001b[0m         retries_taken\u001b[38;5;241m=\u001b[39mretries_taken,\n\u001b[1;32m   1050\u001b[0m         response_headers\u001b[38;5;241m=\u001b[39merr\u001b[38;5;241m.\u001b[39mresponse\u001b[38;5;241m.\u001b[39mheaders,\n\u001b[1;32m   1051\u001b[0m         stream\u001b[38;5;241m=\u001b[39mstream,\n\u001b[1;32m   1052\u001b[0m         stream_cls\u001b[38;5;241m=\u001b[39mstream_cls,\n\u001b[1;32m   1053\u001b[0m     )\n\u001b[1;32m   1055\u001b[0m \u001b[38;5;66;03m# If the response is streamed then we need to explicitly read the response\u001b[39;00m\n\u001b[1;32m   1056\u001b[0m \u001b[38;5;66;03m# to completion before attempting to access the response text.\u001b[39;00m\n\u001b[1;32m   1057\u001b[0m \u001b[38;5;28;01mif\u001b[39;00m \u001b[38;5;129;01mnot\u001b[39;00m err\u001b[38;5;241m.\u001b[39mresponse\u001b[38;5;241m.\u001b[39mis_closed:\n",
      "File \u001b[0;32m~/opt/anaconda3/envs/agent/lib/python3.12/site-packages/openai/_base_client.py:1095\u001b[0m, in \u001b[0;36mSyncAPIClient._retry_request\u001b[0;34m(self, options, cast_to, retries_taken, response_headers, stream, stream_cls)\u001b[0m\n\u001b[1;32m   1091\u001b[0m \u001b[38;5;66;03m# In a synchronous context we are blocking the entire thread. Up to the library user to run the client in a\u001b[39;00m\n\u001b[1;32m   1092\u001b[0m \u001b[38;5;66;03m# different thread if necessary.\u001b[39;00m\n\u001b[1;32m   1093\u001b[0m time\u001b[38;5;241m.\u001b[39msleep(timeout)\n\u001b[0;32m-> 1095\u001b[0m \u001b[38;5;28;01mreturn\u001b[39;00m \u001b[38;5;28mself\u001b[39m\u001b[38;5;241m.\u001b[39m_request(\n\u001b[1;32m   1096\u001b[0m     options\u001b[38;5;241m=\u001b[39moptions,\n\u001b[1;32m   1097\u001b[0m     cast_to\u001b[38;5;241m=\u001b[39mcast_to,\n\u001b[1;32m   1098\u001b[0m     retries_taken\u001b[38;5;241m=\u001b[39mretries_taken \u001b[38;5;241m+\u001b[39m \u001b[38;5;241m1\u001b[39m,\n\u001b[1;32m   1099\u001b[0m     stream\u001b[38;5;241m=\u001b[39mstream,\n\u001b[1;32m   1100\u001b[0m     stream_cls\u001b[38;5;241m=\u001b[39mstream_cls,\n\u001b[1;32m   1101\u001b[0m )\n",
      "File \u001b[0;32m~/opt/anaconda3/envs/agent/lib/python3.12/site-packages/openai/_base_client.py:1046\u001b[0m, in \u001b[0;36mSyncAPIClient._request\u001b[0;34m(self, cast_to, options, retries_taken, stream, stream_cls)\u001b[0m\n\u001b[1;32m   1044\u001b[0m \u001b[38;5;28;01mif\u001b[39;00m remaining_retries \u001b[38;5;241m>\u001b[39m \u001b[38;5;241m0\u001b[39m \u001b[38;5;129;01mand\u001b[39;00m \u001b[38;5;28mself\u001b[39m\u001b[38;5;241m.\u001b[39m_should_retry(err\u001b[38;5;241m.\u001b[39mresponse):\n\u001b[1;32m   1045\u001b[0m     err\u001b[38;5;241m.\u001b[39mresponse\u001b[38;5;241m.\u001b[39mclose()\n\u001b[0;32m-> 1046\u001b[0m     \u001b[38;5;28;01mreturn\u001b[39;00m \u001b[38;5;28mself\u001b[39m\u001b[38;5;241m.\u001b[39m_retry_request(\n\u001b[1;32m   1047\u001b[0m         input_options,\n\u001b[1;32m   1048\u001b[0m         cast_to,\n\u001b[1;32m   1049\u001b[0m         retries_taken\u001b[38;5;241m=\u001b[39mretries_taken,\n\u001b[1;32m   1050\u001b[0m         response_headers\u001b[38;5;241m=\u001b[39merr\u001b[38;5;241m.\u001b[39mresponse\u001b[38;5;241m.\u001b[39mheaders,\n\u001b[1;32m   1051\u001b[0m         stream\u001b[38;5;241m=\u001b[39mstream,\n\u001b[1;32m   1052\u001b[0m         stream_cls\u001b[38;5;241m=\u001b[39mstream_cls,\n\u001b[1;32m   1053\u001b[0m     )\n\u001b[1;32m   1055\u001b[0m \u001b[38;5;66;03m# If the response is streamed then we need to explicitly read the response\u001b[39;00m\n\u001b[1;32m   1056\u001b[0m \u001b[38;5;66;03m# to completion before attempting to access the response text.\u001b[39;00m\n\u001b[1;32m   1057\u001b[0m \u001b[38;5;28;01mif\u001b[39;00m \u001b[38;5;129;01mnot\u001b[39;00m err\u001b[38;5;241m.\u001b[39mresponse\u001b[38;5;241m.\u001b[39mis_closed:\n",
      "File \u001b[0;32m~/opt/anaconda3/envs/agent/lib/python3.12/site-packages/openai/_base_client.py:1095\u001b[0m, in \u001b[0;36mSyncAPIClient._retry_request\u001b[0;34m(self, options, cast_to, retries_taken, response_headers, stream, stream_cls)\u001b[0m\n\u001b[1;32m   1091\u001b[0m \u001b[38;5;66;03m# In a synchronous context we are blocking the entire thread. Up to the library user to run the client in a\u001b[39;00m\n\u001b[1;32m   1092\u001b[0m \u001b[38;5;66;03m# different thread if necessary.\u001b[39;00m\n\u001b[1;32m   1093\u001b[0m time\u001b[38;5;241m.\u001b[39msleep(timeout)\n\u001b[0;32m-> 1095\u001b[0m \u001b[38;5;28;01mreturn\u001b[39;00m \u001b[38;5;28mself\u001b[39m\u001b[38;5;241m.\u001b[39m_request(\n\u001b[1;32m   1096\u001b[0m     options\u001b[38;5;241m=\u001b[39moptions,\n\u001b[1;32m   1097\u001b[0m     cast_to\u001b[38;5;241m=\u001b[39mcast_to,\n\u001b[1;32m   1098\u001b[0m     retries_taken\u001b[38;5;241m=\u001b[39mretries_taken \u001b[38;5;241m+\u001b[39m \u001b[38;5;241m1\u001b[39m,\n\u001b[1;32m   1099\u001b[0m     stream\u001b[38;5;241m=\u001b[39mstream,\n\u001b[1;32m   1100\u001b[0m     stream_cls\u001b[38;5;241m=\u001b[39mstream_cls,\n\u001b[1;32m   1101\u001b[0m )\n",
      "File \u001b[0;32m~/opt/anaconda3/envs/agent/lib/python3.12/site-packages/openai/_base_client.py:1061\u001b[0m, in \u001b[0;36mSyncAPIClient._request\u001b[0;34m(self, cast_to, options, retries_taken, stream, stream_cls)\u001b[0m\n\u001b[1;32m   1058\u001b[0m         err\u001b[38;5;241m.\u001b[39mresponse\u001b[38;5;241m.\u001b[39mread()\n\u001b[1;32m   1060\u001b[0m     log\u001b[38;5;241m.\u001b[39mdebug(\u001b[38;5;124m\"\u001b[39m\u001b[38;5;124mRe-raising status error\u001b[39m\u001b[38;5;124m\"\u001b[39m)\n\u001b[0;32m-> 1061\u001b[0m     \u001b[38;5;28;01mraise\u001b[39;00m \u001b[38;5;28mself\u001b[39m\u001b[38;5;241m.\u001b[39m_make_status_error_from_response(err\u001b[38;5;241m.\u001b[39mresponse) \u001b[38;5;28;01mfrom\u001b[39;00m \u001b[38;5;28;01mNone\u001b[39;00m\n\u001b[1;32m   1063\u001b[0m \u001b[38;5;28;01mreturn\u001b[39;00m \u001b[38;5;28mself\u001b[39m\u001b[38;5;241m.\u001b[39m_process_response(\n\u001b[1;32m   1064\u001b[0m     cast_to\u001b[38;5;241m=\u001b[39mcast_to,\n\u001b[1;32m   1065\u001b[0m     options\u001b[38;5;241m=\u001b[39moptions,\n\u001b[0;32m   (...)\u001b[0m\n\u001b[1;32m   1069\u001b[0m     retries_taken\u001b[38;5;241m=\u001b[39mretries_taken,\n\u001b[1;32m   1070\u001b[0m )\n",
      "\u001b[0;31mInternalServerError\u001b[0m: Error code: 500 - {'error': {'message': 'Timed out generating response. Please try again with a shorter prompt or with `max_tokens` set to a lower value.', 'type': 'internal_error', 'param': None, 'code': 'request_timeout'}}"
     ]
    }
   ],
   "source": [
    "search_term = client.chat.completions.create(\n",
    "    model=\"gpt-4o\",\n",
    "    messages=[\n",
    "        {\"role\": \"system\", \"content\": \"You are an expert API documentation assistant. Provide a google search term to find the target API endpoint documentation based on search query provided below in 4-6 words\"},\n",
    "        {\"role\": \"user\", \"content\": tool_name}]\n",
    ").choices[0].message.content\n",
    "\n",
    "print(search_term)"
   ]
  },
  {
   "cell_type": "markdown",
   "id": "62b7194aedbc3a21",
   "metadata": {},
   "source": [
    "**c. Invoke the search function:** Now that we have the search term, we will invoke the search function to retrieve the results from Google search API. The results only have the link of the web page and a snippet at this point. In the next step, we will retrieve more information from the webpage and summarize it in a dictionary to pass to the model."
   ]
  },
  {
   "cell_type": "code",
   "execution_count": 6,
   "id": "891e924b15957206",
   "metadata": {
    "ExecuteTime": {
     "end_time": "2024-09-23T18:09:03.324177Z",
     "start_time": "2024-09-23T18:09:02.671631Z"
    }
   },
   "outputs": [],
   "source": [
    "from dotenv import load_dotenv\n",
    "import os\n",
    "\n",
    "load_dotenv('.env')\n",
    "\n",
    "api_key = os.getenv('GOOGLE_API_KEY')\n",
    "cse_id = os.getenv('CSE_ID')\n",
    "\n",
    "search_items = search(search_item=search_term, api_key=api_key, cse_id=cse_id, search_depth=6)\n"
   ]
  },
  {
   "cell_type": "code",
   "execution_count": 7,
   "id": "ceedee1eb3ffec85",
   "metadata": {
    "ExecuteTime": {
     "end_time": "2024-09-23T18:09:04.544840Z",
     "start_time": "2024-09-23T18:09:04.542750Z"
    }
   },
   "outputs": [
    {
     "name": "stdout",
     "output_type": "stream",
     "text": [
      "Link: https://developer.atlassian.com/cloud/confluence/rest/v1/api-group-search/\n",
      "Snippet: Searches for content using the Confluence Query Language (CQL). Note that CQL input queries submitted through the /wiki/rest/api/search endpoint no longer ...\n",
      "\n",
      "Link: https://community.developer.atlassian.com/t/how-to-search-confluence-pages-by-content-state/61595\n",
      "Snippet: Sep 15, 2022 ... ... content properties of a page using the endpoint {confluenceBaseURL}/wiki/rest/api/content/{pageId}/property. So, as it is said in the Content ...\n",
      "\n",
      "Link: https://community.atlassian.com/t5/Confluence-questions/Rest-API-call-to-search-content-in-a-page-and-it-s-children/qaq-p/999497\n",
      "Snippet: The endpoint I would suggest you use is GET /rest/api/search. With the ... http://localhost:8080/confluence/rest/api/search?cql=parent=123+and+text ...\n",
      "\n",
      "Link: https://community.developer.atlassian.com/t/problems-with-cql-search-and-expands/62812\n",
      "Snippet: Oct 23, 2022 ... I currently try to search (Custom Content) and want to expand comments and labels. I found these expandable fields in the REST API ...\n",
      "\n",
      "Link: https://community.atlassian.com/t5/Confluence-questions/Confluence-Search-API-endpoint-does-not-seem-to-support-expand/qaq-p/2361683\n",
      "Snippet: May 16, 2023 ... I noticed that the expand query is not working just like it works for other endpoints (/space, /content). For example in the below requests, ...\n",
      "\n",
      "Link: https://docs.atlassian.com/atlassian-confluence/REST/6.6.0/\n",
      "Snippet: Confluence's REST APIs provide access to resources (data entities) via URI paths. To use a REST API, your application will make an HTTP request and parse the ...\n",
      "\n"
     ]
    }
   ],
   "source": [
    "for item in search_items:\n",
    "    print(f\"Link: {item['link']}\")\n",
    "    print(f\"Snippet: {item['snippet']}\\n\")"
   ]
  },
  {
   "cell_type": "markdown",
   "id": "c2f754f92866307e",
   "metadata": {},
   "source": [
    "#### Step 2: Build a Search Dictionary with Titles, URLs, and Summaries of Web Pages\n",
    "After obtaining the search results, we'll extract and organize the relevant information, so it can be passed to the LLM for final output. \n",
    "\n",
    "**a. Scrape Web Page Content:** For each URL in the search results, retrieve the web page to extract textual content while filtering out non-relevant data like scripts and advertisements as demonstrated in function `retrieve_content`. \n",
    "\n",
    "**b. Summarize Content:** Use an LLM to generate concise summaries of the scraped content, focusing on information pertinent to the user's query. Model can be provided the original search text, so it can focus on summarizing the content for the search intent as outlined in function `summarize_content`. \n",
    "  \n",
    "**c. Create a Structured Dictionary:** Organize the data into a dictionary or a DataFrame containing the title, link, and summary for each web page. This structure can be passed on to the LLM to generate the summary with the appropriate citations.    \n"
   ]
  },
  {
   "cell_type": "code",
   "execution_count": 8,
   "id": "f4981ca230333116",
   "metadata": {
    "ExecuteTime": {
     "end_time": "2024-09-23T18:09:16.847793Z",
     "start_time": "2024-09-23T18:09:16.616732Z"
    }
   },
   "outputs": [],
   "source": [
    "import requests\n",
    "from bs4 import BeautifulSoup\n",
    "\n",
    "TRUNCATE_SCRAPED_TEXT = 30000  # Adjust based on your model's context window\n",
    "SEARCH_DEPTH = 5\n",
    "\n",
    "def retrieve_content(url, max_tokens=TRUNCATE_SCRAPED_TEXT):\n",
    "        try:\n",
    "            headers = {'User-Agent': 'Mozilla/5.0'}\n",
    "            response = requests.get(url, headers=headers, timeout=10)\n",
    "            response.raise_for_status()\n",
    "\n",
    "            soup = BeautifulSoup(response.content, 'html.parser')\n",
    "            for script_or_style in soup(['script', 'style']):\n",
    "                script_or_style.decompose()\n",
    "\n",
    "            text = soup.get_text(separator=' ', strip=True)\n",
    "            characters = max_tokens * 4  # Approximate conversion\n",
    "            text = text[:characters]\n",
    "            return text\n",
    "        except requests.exceptions.RequestException as e:\n",
    "            print(f\"Failed to retrieve {url}: {e}\")\n",
    "            return None\n",
    "        \n",
    "def summarize_content(content, search_term, character_limit=500):\n",
    "        prompt = (\n",
    "            f\"You are an AI assistant tasked with summarizing content relevant to '{search_term}'. \"\n",
    "            f\"Please provide a concise summary in {character_limit} characters or less.\"\n",
    "        )\n",
    "        try:\n",
    "            response = client.chat.completions.create(\n",
    "                model=\"gpt-4o-mini\",\n",
    "                messages=[\n",
    "                    {\"role\": \"system\", \"content\": prompt},\n",
    "                    {\"role\": \"user\", \"content\": content}]\n",
    "            )\n",
    "            summary = response.choices[0].message.content\n",
    "            return summary\n",
    "        except Exception as e:\n",
    "            print(f\"An error occurred during summarization: {e}\")\n",
    "            return None\n",
    "\n",
    "def get_search_results(search_items, character_limit=500):\n",
    "    # Generate a summary of search results for the given search term\n",
    "    results_list = []\n",
    "    for idx, item in enumerate(search_items, start=1):\n",
    "        url = item.get('link')\n",
    "        \n",
    "        snippet = item.get('snippet', '')\n",
    "        web_content = retrieve_content(url, TRUNCATE_SCRAPED_TEXT)\n",
    "        \n",
    "        if web_content is None:\n",
    "            print(f\"Error: skipped URL: {url}\")\n",
    "        else:\n",
    "            summary = summarize_content(web_content, search_term, character_limit)\n",
    "            result_dict = {\n",
    "                'order': idx,\n",
    "                'link': url,\n",
    "                'title': snippet,\n",
    "                'Summary': summary\n",
    "            }\n",
    "            results_list.append(result_dict)\n",
    "    return results_list"
   ]
  },
  {
   "cell_type": "code",
   "execution_count": 9,
   "id": "6b9afc6c933a6a67",
   "metadata": {
    "ExecuteTime": {
     "end_time": "2024-09-23T18:09:36.415639Z",
     "start_time": "2024-09-23T18:09:17.743365Z"
    }
   },
   "outputs": [
    {
     "name": "stdout",
     "output_type": "stream",
     "text": [
      "Search order: 1\n",
      "Link: https://developer.atlassian.com/cloud/confluence/rest/v1/api-group-search/\n",
      "Snippet: Searches for content using the Confluence Query Language (CQL). Note that CQL input queries submitted through the /wiki/rest/api/search endpoint no longer ...\n",
      "Summary: The Confluence REST API provides a Search Content endpoint that allows users to query and retrieve content from Confluence using the Confluence Query Language (CQL). This functionality enables efficient searching across various content types, including pages, blog posts, and attachments. Users can refine searches with parameters such as labels, content status, and space restrictions. Detailed documentation includes usage guidelines, authentication methods, and status codes relevant to the API.\n",
      "--------------------------------------------------------------------------------\n",
      "Search order: 2\n",
      "Link: https://community.developer.atlassian.com/t/how-to-search-confluence-pages-by-content-state/61595\n",
      "Snippet: Sep 15, 2022 ... ... content properties of a page using the endpoint {confluenceBaseURL}/wiki/rest/api/content/{pageId}/property. So, as it is said in the Content ...\n",
      "Summary: The Atlassian Developer Community discusses the challenges of searching Confluence pages by content state using the REST API. Users noted that while content statuses (like archived or current) can be queried, custom content states (such as \"rough draft\" or \"ready for review\") cannot be directly filtered through the CQL search endpoint. Attempts to construct queries using content properties resulted in errors. Although there are suggestions to utilize content statuses, the community recognizes limitations, and feature requests for enhanced search capabilities are encouraged.\n",
      "--------------------------------------------------------------------------------\n",
      "Search order: 3\n",
      "Link: https://community.atlassian.com/t5/Confluence-questions/Rest-API-call-to-search-content-in-a-page-and-it-s-children/qaq-p/999497\n",
      "Snippet: The endpoint I would suggest you use is GET /rest/api/search. With the ... http://localhost:8080/confluence/rest/api/search?cql=parent=123+and+text ...\n",
      "Summary: To implement a search feature in Confluence using the REST API, utilize the endpoint GET /rest/api/search with CQL (Confluence Query Language). You can specify criteria like parent pages to get results from any depth of child pages. For example, you could use: `cql=parent=123 and text~{\"getting%20started\"} and type=page`. This setup allows searching all descendants under a specific parent page. If immediate children only are returned, ensure your CQL is correct and that the Confluence server version supports the desired functionality.\n",
      "--------------------------------------------------------------------------------\n",
      "Search order: 4\n",
      "Link: https://community.developer.atlassian.com/t/problems-with-cql-search-and-expands/62812\n",
      "Snippet: Oct 23, 2022 ... I currently try to search (Custom Content) and want to expand comments and labels. I found these expandable fields in the REST API ...\n",
      "Summary: In the Atlassian Developer Community, a user faced issues with expanding comments and labels while using the Confluence Cloud REST API search endpoint. They were attempting to use the expand parameter but found it ignored in their request. Another user clarified that they mixed up endpoints: they should use `/wiki/rest/api/content/search` for the specified expand parameters instead of `/wiki/rest/api/search`. The issue was resolved by adopting the correct endpoint or adjusting the expand parameter.\n",
      "--------------------------------------------------------------------------------\n",
      "Search order: 5\n",
      "Link: https://community.atlassian.com/t5/Confluence-questions/Confluence-Search-API-endpoint-does-not-seem-to-support-expand/qaq-p/2361683\n",
      "Snippet: May 16, 2023 ... I noticed that the expand query is not working just like it works for other endpoints (/space, /content). For example in the below requests, ...\n",
      "Summary: The Confluence REST Search API endpoint has limitations with the expand query parameter, which users have found does not work as expected. Users initially tried to expand properties like `extensions.fileType` and `metadata` but encountered issues. It was discovered that To successfully use the expand parameter, it should be prefixed with \"content.\" This means the correct format is `expand=content.metadata`. Community feedback highlights the need for clearer documentation on these requirements to reduce confusion among users.\n",
      "--------------------------------------------------------------------------------\n",
      "Search order: 6\n",
      "Link: https://docs.atlassian.com/atlassian-confluence/REST/6.6.0/\n",
      "Snippet: Confluence's REST APIs provide access to resources (data entities) via URI paths. To use a REST API, your application will make an HTTP request and parse the ...\n",
      "Summary: The Confluence REST API offers a structured interface to interact with Confluence's resources, enabling developers and administrators to integrate and automate tasks. Key features include the ability to search content using Confluence Query Language (CQL) via the `/rest/content/search` endpoint, which accepts various parameters for querying, including `cql`, `cqlcontext`, and retrieval options like `expand`, `start`, and `limit`. The API follows standard HTTP methods (GET, POST, PUT, DELETE) and returns responses in JSON format, enhancing resource accessibility and management.\n",
      "--------------------------------------------------------------------------------\n"
     ]
    }
   ],
   "source": [
    "results = get_search_results(search_items)\n",
    "\n",
    "for result in results:\n",
    "    print(f\"Search order: {result['order']}\")\n",
    "    print(f\"Link: {result['link']}\")\n",
    "    print(f\"Snippet: {result['title']}\")\n",
    "    print(f\"Summary: {result['Summary']}\")\n",
    "    print('-' * 80)"
   ]
  },
  {
   "cell_type": "markdown",
   "id": "c0603ea9003f7c1d",
   "metadata": {},
   "source": [
    "We retrieved the most recent results. (Note these will vary depending on when you execute this script.) "
   ]
  },
  {
   "cell_type": "markdown",
   "id": "3f81cf3fd1a942c3",
   "metadata": {},
   "source": [
    "#### Step 3: Pass the information to the model to generate a RAG Response to Narrow down the target webpage\n",
    "With the search data organized in a JSON data structure, we will pass this information to the LLM to narrow down relevant webpage. \n"
   ]
  },
  {
   "cell_type": "code",
   "execution_count": 10,
   "id": "2894a01ce6c44d36",
   "metadata": {
    "ExecuteTime": {
     "end_time": "2024-09-23T18:17:27.936015Z",
     "start_time": "2024-09-23T18:17:09.751583Z"
    }
   },
   "outputs": [
    {
     "name": "stdout",
     "output_type": "stream",
     "text": [
      "SELECTED ORDER: 1\n",
      "URL: https://developer.atlassian.com/cloud/confluence/rest/v1/api-group-search/\n",
      "\n",
      "Explanation: The first search result provides detailed documentation on the Confluence REST API's Search Content endpoint, which allows users to query and retrieve content using the Confluence Query Language (CQL). This result includes information on usage guidelines, authentication methods, and status codes relevant to the API, making it the most relevant source for understanding the `confluence_search_page_content` endpoint and its configuration.\n"
     ]
    }
   ],
   "source": [
    "import json \n",
    "\n",
    "# final_prompt = (\n",
    "#     f\"The user will provide a dictionary of search results in JSON format for search query {search_term} Based on on the search results provided by the user, provide a detailed response to this query: **'{search_query}'**. Make sure to cite all the sources at the end of your answer.\"\n",
    "# )\n",
    "\n",
    "prompt = f\"\"\"\n",
    "**System Instruction**\n",
    "You are an expert API documentation assistant. Your task is to understand the user's query on specific API endpoint, synthesize the relevant webpages from a given online search result, and select the most relevant webpage that have information on the given API endpoint and its YAML configuration in order to write a python calling request to the API.\n",
    "\n",
    "**Expected Output:**\n",
    "SELECTED ORDER: <order>\n",
    "URL: <URL>\n",
    "\n",
    "**Explanation:**\n",
    "- Replace `<order>` with the selected order number from the search results and `<URL>` with the selected URL from the search results.\n",
    "- Set <order> to -1 if the search results do not provide enough information on the user input API endpoint.\n",
    "\n",
    "**User Input:**\n",
    "The user endpoint query is: {tool_name}\n",
    "The google search query for this endpoint is: {search_term}\n",
    "The search results are: {results}\n",
    "\"\"\"\n",
    "\n",
    "\n",
    "response = client.chat.completions.create(\n",
    "    model=\"gpt-4o\",\n",
    "    messages=[\n",
    "        {\"role\": \"system\", \"content\": prompt},\n",
    "        {\"role\": \"user\", \"content\": json.dumps(results)}],\n",
    "    temperature=0\n",
    "\n",
    ")\n",
    "summary = response.choices[0].message.content\n",
    "\n",
    "print(summary)"
   ]
  },
  {
   "cell_type": "code",
   "execution_count": 11,
   "id": "405b31f2",
   "metadata": {},
   "outputs": [
    {
     "name": "stdout",
     "output_type": "stream",
     "text": [
      "Selected order: 1\n"
     ]
    }
   ],
   "source": [
    "# Parse the response to get the selected order and URL\n",
    "\n",
    "selected_order = int(summary.split('\\n')[0].split(': ')[1])\n",
    "\n",
    "print(f\"Selected order: {selected_order}\")"
   ]
  },
  {
   "cell_type": "markdown",
   "id": "32ebe3b7",
   "metadata": {},
   "source": [
    "#### Step 4: Visit the related search results and retrieve the content"
   ]
  },
  {
   "cell_type": "code",
   "execution_count": 12,
   "id": "9c681f75",
   "metadata": {},
   "outputs": [
    {
     "name": "stdout",
     "output_type": "stream",
     "text": [
      "828\n"
     ]
    }
   ],
   "source": [
    "import requests\n",
    "from bs4 import BeautifulSoup\n",
    "\n",
    "url = results[selected_order-1]['link']\n",
    "headers = {\"User-Agent\": \"Mozilla/5.0 (Windows NT 10.0; Win64; x64)\"}\n",
    "\n",
    "try:\n",
    "    response = requests.get(url, headers=headers)\n",
    "    response.raise_for_status()  # Raise HTTPError for bad responses\n",
    "    soup = BeautifulSoup(response.text, \"html.parser\")\n",
    "    \n",
    "    main_content = soup.find('body') or soup.find('div', class_='content') or soup.find('article')\n",
    "    \n",
    "    if main_content:\n",
    "        print(len(main_content.get_text(strip=True)))\n",
    "        # print(main_content.get_text(strip=True))\n",
    "    else:\n",
    "        print(\"Body content not found\")\n",
    "\n",
    "except requests.exceptions.RequestException as e:\n",
    "    print(f\"Error fetching the URL: {e}\")\n"
   ]
  },
  {
   "cell_type": "markdown",
   "id": "ecba3bc0",
   "metadata": {},
   "source": [
    "### Step 5: Extract the API specs from the webpage"
   ]
  },
  {
   "cell_type": "code",
   "execution_count": 14,
   "id": "17f04c8a",
   "metadata": {},
   "outputs": [
    {
     "name": "stdout",
     "output_type": "stream",
     "text": [
      "\n",
      "Generated YAML Configuration:\n",
      "Based on the search query and the parsed HTML content, it seems you are looking for the Confluence REST API endpoint related to searching page content. The Confluence REST API provides a way to interact with Confluence programmatically, and the search functionality is typically accessed via the CQL (Confluence Query Language) search endpoint.\n",
      "\n",
      "Here's a YAML configuration for the Confluence REST API search content endpoint:\n",
      "\n",
      "```yaml\n",
      "openapi: 3.1.0\n",
      "info:\n",
      "  title: Confluence REST API\n",
      "  description: The Confluence REST API provides a way to interact with Confluence programmatically, including searching for content using CQL.\n",
      "  version: 1.0.0\n",
      "servers:\n",
      "  - url: https://your-domain.atlassian.net/wiki/rest/api\n",
      "    description: Main Confluence Cloud server\n",
      "paths:\n",
      "  /content/search:\n",
      "    get:\n",
      "      operationId: searchContent\n",
      "      summary: Search for content in Confluence using CQL.\n",
      "      description: |\n",
      "        This endpoint allows you to search for content in Confluence using the Confluence Query Language (CQL). \n",
      "        You can filter and sort the results based on various criteria.\n",
      "      parameters:\n",
      "        - name: cql\n",
      "          in: query\n",
      "          required: true\n",
      "          description: The CQL query string to search for content.\n",
      "          schema:\n",
      "            type: string\n",
      "        - name: cqlcontext\n",
      "          in: query\n",
      "          required: false\n",
      "          description: The context to execute a CQL search in, which can include spaceKey and contentId.\n",
      "          schema:\n",
      "            type: object\n",
      "        - name: expand\n",
      "          in: query\n",
      "          required: false\n",
      "          description: A comma-separated list of properties to expand on the content.\n",
      "          schema:\n",
      "            type: string\n",
      "      responses:\n",
      "        '200':\n",
      "          description: A JSON object containing the search results.\n",
      "          content:\n",
      "            application/json:\n",
      "              schema:\n",
      "                type: object\n",
      "                properties:\n",
      "                  results:\n",
      "                    type: array\n",
      "                    items:\n",
      "                      type: object\n",
      "                      properties:\n",
      "                        id:\n",
      "                          type: string\n",
      "                        title:\n",
      "                          type: string\n",
      "                        type:\n",
      "                          type: string\n",
      "                        status:\n",
      "                          type: string\n",
      "                  start:\n",
      "                    type: integer\n",
      "                  limit:\n",
      "                    type: integer\n",
      "                  size:\n",
      "                    type: integer\n",
      "```\n",
      "\n",
      "### Explanation:\n",
      "- **Title and Description**: The title is \"Confluence REST API,\" and the description provides a brief overview of the API's purpose.\n",
      "- **Server URL**: The server URL is a placeholder (`https://your-domain.atlassian.net/wiki/rest/api`) that should be replaced with your actual Confluence Cloud domain.\n",
      "- **Endpoint**: The `/content/search` endpoint is used for searching content using CQL.\n",
      "- **Parameters**: Includes `cql` (required), `cqlcontext` (optional), and `expand` (optional) parameters.\n",
      "- **Responses**: The response includes a JSON object with search results, including properties like `id`, `title`, `type`, and `status`.\n",
      "\n",
      "This configuration provides a structured representation of the Confluence REST API search content endpoint, suitable for integration or documentation purposes.\n"
     ]
    }
   ],
   "source": [
    "def generate_api_spec(webpage_content, tool_name, search_term):\n",
    "    userPrompt = f\"\"\"\n",
    "    The user endpoint query: {tool_name}\n",
    "    The google search query for this endpoint: {search_term}\n",
    "    Related search result (parsed html): {webpage_content}\n",
    "    \"\"\"\n",
    "    \n",
    "    try:\n",
    "        response = client.chat.completions.create(\n",
    "            model=\"gpt-4o\",\n",
    "            messages=[\n",
    "                {\"role\": \"system\", \"content\": systemPrompt_byob},\n",
    "                {\"role\": \"user\", \"content\": userPrompt}\n",
    "            ],\n",
    "            temperature=0.1\n",
    "        )\n",
    "        return response.choices[0].message.content\n",
    "    except Exception as e:\n",
    "        print(f\"Error generating YAML config: {e}\")\n",
    "        return None\n",
    "\n",
    "# Get the webpage content\n",
    "webpage_content = main_content.get_text(strip=True)\n",
    "\n",
    "# Extract YAML configuration\n",
    "yaml_config_4o = generate_api_spec(webpage_content, tool_name, search_term)\n",
    "print(\"\\nGenerated YAML Configuration:\")\n",
    "print(yaml_config_4o)"
   ]
  },
  {
   "cell_type": "code",
   "execution_count": 17,
   "id": "40640c3c",
   "metadata": {},
   "outputs": [
    {
     "name": "stdout",
     "output_type": "stream",
     "text": [
      "\n",
      "Generated YAML Configuration (o1):\n",
      "```yaml\n",
      "openapi: 3.1.0\n",
      "info:\n",
      "  title: Confluence REST API\n",
      "  description: |\n",
      "    The Confluence REST API provides access to Confluence Cloud resources.\n",
      "    You can use it to create, read, update, and delete content in your Confluence instance.\n",
      "  version: 1.0.0\n",
      "servers:\n",
      "  - url: https://api.atlassian.com/ex/confluence/{cloudId}/wiki/rest/api\n",
      "    description: Confluence Cloud API Server\n",
      "    variables:\n",
      "      cloudId:\n",
      "        description: The unique identifier for your Confluence Cloud site.\n",
      "        default: your-cloud-id\n",
      "paths:\n",
      "  /content/search:\n",
      "    get:\n",
      "      operationId: searchContent\n",
      "      summary: Search for content in Confluence.\n",
      "      description: |\n",
      "        Searches for content within Confluence using Confluence Query Language (CQL).\n",
      "        You can refine your search using various query parameters.\n",
      "      parameters:\n",
      "        - name: cql\n",
      "          in: query\n",
      "          description: |\n",
      "            Confluence Query Language (CQL) statement to query for content.\n",
      "            Example: `type=page AND title~\"Meeting Notes\"`\n",
      "          required: true\n",
      "          schema:\n",
      "            type: string\n",
      "        - name: limit\n",
      "          in: query\n",
      "          description: Maximum number of results to return. Default is 25.\n",
      "          required: false\n",
      "          schema:\n",
      "            type: integer\n",
      "            default: 25\n",
      "            minimum: 1\n",
      "            maximum: 100\n",
      "        - name: start\n",
      "          in: query\n",
      "          description: The starting index of the returned results. Default is 0.\n",
      "          required: false\n",
      "          schema:\n",
      "            type: integer\n",
      "            default: 0\n",
      "            minimum: 0\n",
      "        - name: expand\n",
      "          in: query\n",
      "          description: |\n",
      "            Expand options for the returned content.\n",
      "            Available options: body.view, space, history, version, etc.\n",
      "          required: false\n",
      "          schema:\n",
      "            type: string\n",
      "      responses:\n",
      "        '200':\n",
      "          description: A list of content matching the search criteria.\n",
      "          content:\n",
      "            application/json:\n",
      "              schema:\n",
      "                type: object\n",
      "                properties:\n",
      "                  results:\n",
      "                    type: array\n",
      "                    items:\n",
      "                      type: object\n",
      "                      properties:\n",
      "                        id:\n",
      "                          type: string\n",
      "                          description: The unique identifier for the content.\n",
      "                        type:\n",
      "                          type: string\n",
      "                          description: The type of content (e.g., page, blogpost).\n",
      "                        title:\n",
      "                          type: string\n",
      "                          description: The title of the content.\n",
      "                        space:\n",
      "                          type: object\n",
      "                          properties:\n",
      "                            key:\n",
      "                              type: string\n",
      "                              description: The space key.\n",
      "                            name:\n",
      "                              type: string\n",
      "                              description: The space name.\n",
      "                        _links:\n",
      "                          type: object\n",
      "                          properties:\n",
      "                            self:\n",
      "                              type: string\n",
      "                              description: URL to the content.\n",
      "                  size:\n",
      "                    type: integer\n",
      "                    description: Number of results returned.\n",
      "                  limit:\n",
      "                    type: integer\n",
      "                    description: The maximum number of results that could be returned.\n",
      "                  links:\n",
      "                    type: object\n",
      "                    properties:\n",
      "                      self:\n",
      "                        type: string\n",
      "                        description: URL to the current search results.\n",
      "                      next:\n",
      "                        type: string\n",
      "                        description: URL to the next set of results, if any.\n",
      "        '400':\n",
      "          description: Bad Request - Invalid CQL or parameters.\n",
      "          content:\n",
      "            application/json:\n",
      "              schema:\n",
      "                type: object\n",
      "                properties:\n",
      "                  status:\n",
      "                    type: integer\n",
      "                    example: 400\n",
      "                  error:\n",
      "                    type: string\n",
      "                    example: \"Invalid CQL query.\"\n",
      "        '401':\n",
      "          description: Unauthorized - Authentication failed.\n",
      "          content:\n",
      "            application/json:\n",
      "              schema:\n",
      "                type: object\n",
      "                properties:\n",
      "                  status:\n",
      "                    type: integer\n",
      "                    example: 401\n",
      "                  error:\n",
      "                    type: string\n",
      "                    example: \"Authentication credentials were missing or incorrect.\"\n",
      "        '403':\n",
      "          description: Forbidden - Permission denied.\n",
      "          content:\n",
      "            application/json:\n",
      "              schema:\n",
      "                type: object\n",
      "                properties:\n",
      "                  status:\n",
      "                    type: integer\n",
      "                    example: 403\n",
      "                  error:\n",
      "                    type: string\n",
      "                    example: \"You do not have permission to access this resource.\"\n",
      "        '404':\n",
      "          description: Not Found - Endpoint not found.\n",
      "          content:\n",
      "            application/json:\n",
      "              schema:\n",
      "                type: object\n",
      "                properties:\n",
      "                  status:\n",
      "                    type: integer\n",
      "                    example: 404\n",
      "                  error:\n",
      "                    type: string\n",
      "                    example: \"The requested resource was not found.\"\n",
      "components:\n",
      "  securitySchemes:\n",
      "    oauth2:\n",
      "      type: oauth2\n",
      "      flows:\n",
      "        authorizationCode:\n",
      "          authorizationUrl: https://auth.atlassian.com/authorize\n",
      "          tokenUrl: https://auth.atlassian.com/oauth/token\n",
      "          scopes:\n",
      "            read:content: Read access to content.\n",
      "            write:content: Write access to content.\n",
      "security:\n",
      "  - oauth2:\n",
      "      - read:content\n",
      "      - write:content\n",
      "```\n"
     ]
    }
   ],
   "source": [
    "def generate_api_spec_o1(webpage_content, tool_name, search_term):\n",
    "    userPrompt = f\"\"\"\n",
    "    The user endpoint query: {tool_name}\n",
    "    The google search query for this endpoint: {search_term}\n",
    "    The first search result: {webpage_content}\n",
    "    \"\"\"\n",
    "    \n",
    "    try:\n",
    "        response = client.chat.completions.create(\n",
    "            model=\"o1-mini-2024-09-12\",\n",
    "            messages=[\n",
    "                {\"role\": \"user\", \"content\": systemPrompt_byob + userPrompt}\n",
    "            ],\n",
    "        )\n",
    "        return response.choices[0].message.content\n",
    "    except Exception as e:\n",
    "        print(f\"Error generating YAML config: {e}\")\n",
    "        return None\n",
    "\n",
    "# Get the webpage content\n",
    "webpage_content = main_content.get_text(strip=True)\n",
    "\n",
    "# Extract YAML configuration\n",
    "yaml_config_o1 = generate_api_spec_o1(webpage_content, tool_name, search_term)\n",
    "print(\"\\nGenerated YAML Configuration (o1):\")\n",
    "print(yaml_config_o1)"
   ]
  },
  {
   "cell_type": "code",
   "execution_count": 18,
   "id": "b9f932d8",
   "metadata": {},
   "outputs": [],
   "source": [
    "# Extract YAML content between ```yaml and ``` markers\n",
    "try:\n",
    "    yaml_start = yaml_config_o1.find(\"```yaml\") + 7  # Skip ```yaml\n",
    "    yaml_end = yaml_config_o1.find(\"```\", yaml_start)\n",
    "    yaml_content = yaml_config_o1[yaml_start:yaml_end].strip()\n",
    "except:\n",
    "    print(\"Can not extract YAML from model response\")"
   ]
  },
  {
   "cell_type": "code",
   "execution_count": 19,
   "id": "5d95460e",
   "metadata": {},
   "outputs": [
    {
     "data": {
      "text/plain": [
       "'openapi: 3.1.0\\ninfo:\\n  title: Confluence REST API\\n  description: |\\n    The Confluence REST API provides access to Confluence Cloud resources.\\n    You can use it to create, read, update, and delete content in your Confluence instance.\\n  version: 1.0.0\\nservers:\\n  - url: https://api.atlassian.com/ex/confluence/{cloudId}/wiki/rest/api\\n    description: Confluence Cloud API Server\\n    variables:\\n      cloudId:\\n        description: The unique identifier for your Confluence Cloud site.\\n        default: your-cloud-id\\npaths:\\n  /content/search:\\n    get:\\n      operationId: searchContent\\n      summary: Search for content in Confluence.\\n      description: |\\n        Searches for content within Confluence using Confluence Query Language (CQL).\\n        You can refine your search using various query parameters.\\n      parameters:\\n        - name: cql\\n          in: query\\n          description: |\\n            Confluence Query Language (CQL) statement to query for content.\\n            Example: `type=page AND title~\"Meeting Notes\"`\\n          required: true\\n          schema:\\n            type: string\\n        - name: limit\\n          in: query\\n          description: Maximum number of results to return. Default is 25.\\n          required: false\\n          schema:\\n            type: integer\\n            default: 25\\n            minimum: 1\\n            maximum: 100\\n        - name: start\\n          in: query\\n          description: The starting index of the returned results. Default is 0.\\n          required: false\\n          schema:\\n            type: integer\\n            default: 0\\n            minimum: 0\\n        - name: expand\\n          in: query\\n          description: |\\n            Expand options for the returned content.\\n            Available options: body.view, space, history, version, etc.\\n          required: false\\n          schema:\\n            type: string\\n      responses:\\n        \\'200\\':\\n          description: A list of content matching the search criteria.\\n          content:\\n            application/json:\\n              schema:\\n                type: object\\n                properties:\\n                  results:\\n                    type: array\\n                    items:\\n                      type: object\\n                      properties:\\n                        id:\\n                          type: string\\n                          description: The unique identifier for the content.\\n                        type:\\n                          type: string\\n                          description: The type of content (e.g., page, blogpost).\\n                        title:\\n                          type: string\\n                          description: The title of the content.\\n                        space:\\n                          type: object\\n                          properties:\\n                            key:\\n                              type: string\\n                              description: The space key.\\n                            name:\\n                              type: string\\n                              description: The space name.\\n                        _links:\\n                          type: object\\n                          properties:\\n                            self:\\n                              type: string\\n                              description: URL to the content.\\n                  size:\\n                    type: integer\\n                    description: Number of results returned.\\n                  limit:\\n                    type: integer\\n                    description: The maximum number of results that could be returned.\\n                  links:\\n                    type: object\\n                    properties:\\n                      self:\\n                        type: string\\n                        description: URL to the current search results.\\n                      next:\\n                        type: string\\n                        description: URL to the next set of results, if any.\\n        \\'400\\':\\n          description: Bad Request - Invalid CQL or parameters.\\n          content:\\n            application/json:\\n              schema:\\n                type: object\\n                properties:\\n                  status:\\n                    type: integer\\n                    example: 400\\n                  error:\\n                    type: string\\n                    example: \"Invalid CQL query.\"\\n        \\'401\\':\\n          description: Unauthorized - Authentication failed.\\n          content:\\n            application/json:\\n              schema:\\n                type: object\\n                properties:\\n                  status:\\n                    type: integer\\n                    example: 401\\n                  error:\\n                    type: string\\n                    example: \"Authentication credentials were missing or incorrect.\"\\n        \\'403\\':\\n          description: Forbidden - Permission denied.\\n          content:\\n            application/json:\\n              schema:\\n                type: object\\n                properties:\\n                  status:\\n                    type: integer\\n                    example: 403\\n                  error:\\n                    type: string\\n                    example: \"You do not have permission to access this resource.\"\\n        \\'404\\':\\n          description: Not Found - Endpoint not found.\\n          content:\\n            application/json:\\n              schema:\\n                type: object\\n                properties:\\n                  status:\\n                    type: integer\\n                    example: 404\\n                  error:\\n                    type: string\\n                    example: \"The requested resource was not found.\"\\ncomponents:\\n  securitySchemes:\\n    oauth2:\\n      type: oauth2\\n      flows:\\n        authorizationCode:\\n          authorizationUrl: https://auth.atlassian.com/authorize\\n          tokenUrl: https://auth.atlassian.com/oauth/token\\n          scopes:\\n            read:content: Read access to content.\\n            write:content: Write access to content.\\nsecurity:\\n  - oauth2:\\n      - read:content\\n      - write:content'"
      ]
     },
     "execution_count": 19,
     "metadata": {},
     "output_type": "execute_result"
    }
   ],
   "source": [
    "yaml_content"
   ]
  },
  {
   "cell_type": "markdown",
   "id": "8b6beba8859f1bc7",
   "metadata": {},
   "source": [
    "### Generate tool function etc. from YAML\n",
    "To further generate the tool definition, py function etc, adapt some functions in `genAPIDscp.py`"
   ]
  },
  {
   "cell_type": "code",
   "execution_count": 81,
   "id": "e93de474",
   "metadata": {},
   "outputs": [],
   "source": [
    "import yaml\n",
    "from prompts import genDscpFromYaml_withNoExec\n",
    "\n",
    "def genDscpFromYamlStr(endpoint: dict, source_yaml_path: str = None, yaml_content: str =None):\n",
    "    load_dotenv()\n",
    "    client = OpenAI(api_key=os.getenv('OPENAI_KEY'))\n",
    "    \n",
    "        \n",
    "    if yaml_content:\n",
    "        source_yaml = yaml.safe_load(yaml_content)\n",
    "    elif source_yaml_path:\n",
    "        source_yaml = yaml.safe_load(open(source_yaml_path, 'r'))\n",
    "      \n",
    "    if source_yaml:  \n",
    "        prompt = genDscpFromYaml_withNoExec.replace('{source_yaml}', str(source_yaml)).replace('{target_endpoint}', str(endpoint))\n",
    "\n",
    "    try:\n",
    "        completion = client.chat.completions.create(\n",
    "            model=\"o1-mini-2024-09-12\",\n",
    "            # model=\"gpt-4o-2024-11-20\",\n",
    "            messages=[  \n",
    "                {\"role\": \"user\", \"content\": prompt + structuredResponse}\n",
    "            ]\n",
    "            )\n",
    "        \n",
    "        response = completion.choices[0].message.content\n",
    "        \n",
    "        return response\n",
    "        \n",
    "    except Exception as e:\n",
    "        print(f\"Error generating description for {endpoint['name']}: {e}\")"
   ]
  },
  {
   "cell_type": "code",
   "execution_count": 88,
   "id": "04762e27",
   "metadata": {},
   "outputs": [],
   "source": [
    "endpoint_path = yaml.safe_load(yaml_content)['paths'].keys().__iter__().__next__()"
   ]
  },
  {
   "cell_type": "code",
   "execution_count": 82,
   "id": "d18fe6aa",
   "metadata": {},
   "outputs": [
    {
     "data": {
      "text/plain": [
       "'```json\\n{\\n    \"instruction\": \"Refer to the Confluence Cloud REST API documentation at https://developer.atlassian.com/cloud/confluence/rest/ to understand how to use the search endpoint for retrieving page content using Confluence Query Language (CQL).\",\\n    \"tool_definition\": {\\n        \"type\": \"function\",\\n        \"function\": {\\n            \"name\": \"confluence_search_page_content\",\\n            \"description\": \"Search for page content in Confluence using Confluence Query Language (CQL). Use this function to retrieve pages based on CQL queries, with options to limit the number of results, paginate through results, and expand additional content properties.\",\\n            \"parameters\": {\\n                \"type\": \"object\",\\n                \"properties\": {\\n                    \"api_key\": {\\n                        \"type\": \"string\",\\n                        \"description\": \"Your Confluence API authorization token.\"\\n                    },\\n                    \"cql\": {\\n                        \"type\": \"string\",\\n                        \"description\": \"The Confluence Query Language (CQL) expression to filter search results.\"\\n                    },\\n                    \"limit\": {\\n                        \"type\": \"integer\",\\n                        \"description\": \"The maximum number of results to return. Default is 25.\"\\n                    },\\n                    \"start\": {\\n                        \"type\": \"integer\",\\n                        \"description\": \"The index of the first result to return (used for pagination). Default is 0.\"\\n                    },\\n                    \"expand\": {\\n                        \"type\": \"string\",\\n                        \"description\": \"Additional content properties to include in the response, such as `body.storage` or `version`.\"\\n                    }\\n                },\\n                \"required\": [\"api_key\", \"cql\"],\\n                \"additionalProperties\": false\\n            }\\n        }\\n    },\\n    \"tool_function\": \"import requests\\\\n\\\\ndef confluence_search_page_content(api_key, cql, limit=25, start=0, expand=None):\\\\n    \\\\\"\\\\\"\\\\\"\\\\n    Search for page content in Confluence using Confluence Query Language (CQL).\\\\n    \\\\n    Args:\\\\n        api_key (str): Your Confluence API authorization token.\\\\n        cql (str): The CQL expression to filter search results.\\\\n        limit (int, optional): Maximum number of results to return. Defaults to 25.\\\\n        start (int, optional): Index of the first result to return for pagination. Defaults to 0.\\\\n        expand (str, optional): Additional content properties to include in the response.\\\\n    \\\\n    Returns:\\\\n        dict: JSON response from the Confluence API containing search results.\\\\n    \\\\n    Raises:\\\\n        requests.exceptions.HTTPError: If the API request fails.\\\\n    \\\\\"\\\\\"\\\\\"\\\\n    url = \\'https://api.atlassian.com/ex/confluence/your-cloud-id/wiki/rest/api/search\\'\\\\n    headers = {\\\\n        \\'Authorization\\': f\\'Bearer {api_key}\\',\\\\n        \\'Accept\\': \\'application/json\\'\\\\n    }\\\\n    params = {\\\\n        \\'cql\\': cql,\\\\n        \\'limit\\': limit,\\\\n        \\'start\\': start\\\\n    }\\\\n    if expand:\\\\n        params[\\'expand\\'] = expand\\\\n    response = requests.get(url, headers=headers, params=params)\\\\n    response.raise_for_status()\\\\n    return response.json()\"\\n}\\n```'"
      ]
     },
     "execution_count": 82,
     "metadata": {},
     "output_type": "execute_result"
    }
   ],
   "source": [
    "response = genDscpFromYamlStr(endpoint = endpoint_path, yaml_content=yaml_content)\n",
    "response"
   ]
  },
  {
   "cell_type": "markdown",
   "id": "f9ef65c8",
   "metadata": {},
   "source": [
    "Response preview"
   ]
  },
  {
   "cell_type": "code",
   "execution_count": 90,
   "id": "0e4d63e9",
   "metadata": {},
   "outputs": [
    {
     "name": "stdout",
     "output_type": "stream",
     "text": [
      "Valid response format for confluence_search_page_content\n"
     ]
    }
   ],
   "source": [
    "import json\n",
    "from genAPIDscp import responseFormatCheck\n",
    "\n",
    "OUTPUT_DIR = '.'\n",
    "                        \n",
    "if response.startswith('```json') and response.endswith('```'):\n",
    "    r = response[7:-3].strip('\\n')\n",
    "                        \n",
    "    try:\n",
    "        endpoint_name = json.loads(r).get('tool_definition', {}).get('function', {}).get('name', 'unnamed')\n",
    "    except Exception as e:\n",
    "        print(f\"Error parsing response for {endpoint.get('name', 'unnamed')}: {e}\")\n",
    "        print(r)\n",
    "        endpoint_name = endpoint.get('name', 'unnamed')\n",
    "                        \n",
    "    if responseFormatCheck(r):\n",
    "        print(f\"Valid response format for {endpoint_name}\")\n",
    "    else:\n",
    "        print(f\"Invalid response format for {endpoint_name}\")\n",
    "        print(r)\n",
    "        raise Exception\n",
    "                    \n",
    "    with open(OUTPUT_DIR + '/' + endpoint_name + '.json', 'a') as f:\n",
    "        # f.write(f\"\\n\\n=== Processing endpoint {endpoint.get('name', 'unnamed')} from {yaml_path} ===\\n\")\n",
    "        f.write(r)\n",
    "        # f.write(\"\\n\")"
   ]
  },
  {
   "cell_type": "markdown",
   "id": "b388dc92",
   "metadata": {},
   "source": [
    "### Postprocess\n",
    "If Jira AA-44 worked, do not need to process this on server!\n",
    "\n",
    "Parse tool function string and add decorators, like `process_func_str` at `AAPI/aapi/utils.py`\n"
   ]
  }
 ],
 "metadata": {
  "kernelspec": {
   "display_name": "Python 3",
   "language": "python",
   "name": "python3"
  },
  "language_info": {
   "codemirror_mode": {
    "name": "ipython",
    "version": 3
   },
   "file_extension": ".py",
   "mimetype": "text/x-python",
   "name": "python",
   "nbconvert_exporter": "python",
   "pygments_lexer": "ipython3",
   "version": "3.12.0"
  }
 },
 "nbformat": 4,
 "nbformat_minor": 5
}
